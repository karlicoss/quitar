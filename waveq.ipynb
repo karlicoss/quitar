{
 "cells": [
  {
   "cell_type": "code",
   "execution_count": 271,
   "metadata": {},
   "outputs": [
    {
     "name": "stdout",
     "output_type": "stream",
     "text": [
      "PDE:\n"
     ]
    },
    {
     "data": {
      "text/latex": [
       "$$- \\frac{\\partial^{2}}{\\partial t^{2}} u{\\left (x,t \\right )} + \\frac{\\partial^{2}}{\\partial x^{2}} u{\\left (x,t \\right )} = 0$$"
      ],
      "text/plain": [
       "    2              2             \n",
       "   ∂              ∂              \n",
       "- ───(u(x, t)) + ───(u(x, t)) = 0\n",
       "    2              2             \n",
       "  ∂t             ∂x              "
      ]
     },
     "metadata": {},
     "output_type": "display_data"
    },
    {
     "data": {
      "text/latex": [
       "$$\\frac{\\frac{d^{2}}{d x^{2}} X{\\left (x \\right )}}{X{\\left (x \\right )}}$$"
      ],
      "text/plain": [
       "  2      \n",
       " d       \n",
       "───(X(x))\n",
       "  2      \n",
       "dx       \n",
       "─────────\n",
       "   X(x)  "
      ]
     },
     "metadata": {},
     "output_type": "display_data"
    },
    {
     "name": "stdout",
     "output_type": "stream",
     "text": [
      "Separating variables:\n"
     ]
    },
    {
     "data": {
      "text/latex": [
       "$$\\left ( - k^{2} + \\frac{\\frac{d^{2}}{d x^{2}} X{\\left (x \\right )}}{X{\\left (x \\right )}} = 0, \\quad - k^{2} + \\frac{\\frac{d^{2}}{d t^{2}} T{\\left (t \\right )}}{T{\\left (t \\right )}} = 0\\right )$$"
      ],
      "text/plain": [
       "⎛         2                     2          ⎞\n",
       "⎜        d                     d           ⎟\n",
       "⎜       ───(X(x))             ───(T(t))    ⎟\n",
       "⎜         2                     2          ⎟\n",
       "⎜   2   dx                2   dt           ⎟\n",
       "⎜- k  + ───────── = 0, - k  + ───────── = 0⎟\n",
       "⎝          X(x)                  T(t)      ⎠"
      ]
     },
     "metadata": {},
     "output_type": "display_data"
    },
    {
     "name": "stdout",
     "output_type": "stream",
     "text": [
      "Boundary_conditions: \n",
      "x_l: 0\n",
      "x_r: 1\n",
      "General solutions for X and T:\n"
     ]
    },
    {
     "data": {
      "text/latex": [
       "$$\\left ( C_{1} e^{- k x} + C_{2} e^{k x}, \\quad C_{1} e^{- k t} + C_{2} e^{k t}\\right )$$"
      ],
      "text/plain": [
       "⎛    -k⋅x       k⋅x      -k⋅t       k⋅t⎞\n",
       "⎝C₁⋅ℯ     + C₂⋅ℯ   , C₁⋅ℯ     + C₂⋅ℯ   ⎠"
      ]
     },
     "metadata": {},
     "output_type": "display_data"
    },
    {
     "name": "stdout",
     "output_type": "stream",
     "text": [
      "BC enforces:\n"
     ]
    },
    {
     "data": {
      "text/latex": [
       "$$\\left ( C_{1} + C_{2} = 0, \\quad C_{1} e^{- k} + C_{2} e^{k} = 0\\right )$$"
      ],
      "text/plain": [
       "⎛                 -k       k    ⎞\n",
       "⎝C₁ + C₂ = 0, C₁⋅ℯ   + C₂⋅ℯ  = 0⎠"
      ]
     },
     "metadata": {},
     "output_type": "display_data"
    },
    {
     "name": "stdout",
     "output_type": "stream",
     "text": [
      "Allowed values of k:\n"
     ]
    },
    {
     "data": {
      "text/latex": [
       "$$\\left\\{n i \\pi\\; |\\; n \\in \\mathbb{Z}\\right\\}$$"
      ],
      "text/plain": [
       "{n⋅ⅈ⋅π | n ∊ ℤ}"
      ]
     },
     "metadata": {},
     "output_type": "display_data"
    },
    {
     "name": "stdout",
     "output_type": "stream",
     "text": [
      "General solution:\n"
     ]
    },
    {
     "data": {
      "text/latex": [
       "$$\\sum_{n=-\\infty}^{\\infty} \\left(e^{i \\pi n x} {B}_{n} + e^{- i \\pi n x} {A}_{n}\\right)$$"
      ],
      "text/plain": [
       "  ∞                                    \n",
       " ___                                   \n",
       " ╲                                     \n",
       "  ╲    ⎛ ⅈ⋅π⋅n⋅x         -ⅈ⋅π⋅n⋅x     ⎞\n",
       "  ╱    ⎝ℯ       ⋅B[n] + ℯ        ⋅A[n]⎠\n",
       " ╱                                     \n",
       " ‾‾‾                                   \n",
       "n = -∞                                 "
      ]
     },
     "metadata": {},
     "output_type": "display_data"
    }
   ],
   "source": [
    "from sympy import *\n",
    "from sympy import Derivative as D, Function as F\n",
    "from sympy.solvers.solveset import linsolve\n",
    "from sympy.solvers.ode import ode_nth_linear_constant_coeff_homogeneous as ode_solve\n",
    "from IPython.display import display\n",
    "\n",
    "init_printing(use_latex='mathjax', wrap_line=False)\n",
    "# TODO init_session?\n",
    "# TODO shit, how to display stuff as single line???\n",
    "from IPython.core.display import display, HTML\n",
    "no_wrap_div = '<div style=\"white-space: nowrap\">{}{}</div>'\n",
    "# display(HTML(no_wrap_div.format(eqX, eqT)))\n",
    "\n",
    "x, t = symbols('x t', real=True)\n",
    "u = F('u')(x, t)\n",
    "eq = Eq(D(u, x, 2) - D(u, t, 2))\n",
    "\n",
    "print(\"PDE:\")\n",
    "display(eq)\n",
    "\n",
    "X = F('X')(x)\n",
    "T = F('T')(t)\n",
    "\n",
    "k = symbols('k')\n",
    "L = symbols('L', real=True)\n",
    "\n",
    "# TODO sympy: can't handle without manual separation\n",
    "E = k ** 2\n",
    "[_eqX, _eqT] = pde_separate_mul(eq, u, [X, T])\n",
    "\n",
    "display(_eqX)\n",
    "\n",
    "eqX = Eq(_eqX - E) # ).canonical\n",
    "eqT = Eq(_eqT - E) # ).canonical\n",
    "# canonical moves all variables to the left and numbers to the right\n",
    "\n",
    "\n",
    "print(\"Separating variables:\")\n",
    "display((eqX, eqT))\n",
    "\n",
    "\n",
    "x_l = 0\n",
    "x_r = 1\n",
    "print(\"Boundary_conditions: \")\n",
    "print(\"x_l:\", x_l)\n",
    "print(\"x_r:\", x_r)\n",
    "\n",
    "Tsol = dsolve(eqT).rhs\n",
    "# shit, it won't eliminate solutions based on k :(\n",
    "Xsol = dsolve(\n",
    "    eqX,\n",
    "    X,\n",
    "    #ics={\n",
    "    #    X.subs(x, x_l): 0,\n",
    "    #    X.subs(x, x_r): 0,            \n",
    "    #},\n",
    "    hint='nth_linear_constant_coeff_homogeneous',\n",
    "    # returns = 'both',\n",
    "    \n",
    ").rhs\n",
    "\n",
    "print(\"General solutions for X and T:\")\n",
    "display((Xsol, Tsol))\n",
    "\n",
    "# how to specify constants for DE solver??\n",
    "[C1, C2] = list(Xsol.free_symbols.difference({k, x}))\n",
    "\n",
    "bcs_l = Eq(Xsol.subs(x, x_l))\n",
    "bcs_r = Eq(Xsol.subs(x, x_r))\n",
    "\n",
    "print(\"BC enforces:\")\n",
    "display((bcs_l, bcs_r))\n",
    "\n",
    "\n",
    "# TODO blog about that, give examples?\n",
    "# so, solveset stuff can't handle \n",
    "[c1_c2] = solve(bcs_l, C1)\n",
    "# solve(bcs_r.subs(C1, c1_c2))\n",
    "# [{C2:0},{k:0},{k:iπ}]\n",
    "# TODO what do we do with C2 = 0 solution???\n",
    "K = solveset(bcs_r.subs(C1, c1_c2), k)\n",
    "\n",
    "print(\"Allowed values of k:\")\n",
    "display(K)\n",
    "\n",
    "# basis = imageset(lambda kk: Xsol.subs(k, kk), K)\n",
    "# print(\"Solutions basis:\")\n",
    "# display(basis)\n",
    "\n",
    "# here, sympy retuns something called ImageSet. it basically means that the solutions image of Z under x -> x i pi\n",
    "\n",
    "\n",
    "# right, how to define infinite coefficients? can it just be a function?\n",
    "# TODO how to sum something over imageset????\n",
    "\n",
    "# TODO base_set??\n",
    "\n",
    "\n",
    "# shit, that didn't work. requires lower and upper bounds\n",
    "# kinda makes sense, we can't just sum over arbitrary sets...\n",
    "# but we do want to sum over countable sets!\n",
    "\n",
    "def sum_map(f, iset, idx):\n",
    "    return Sum(\n",
    "        f(idx, iset.lamda(idx)),\n",
    "        (idx, iset.base_set._inf, iset.base_set._sup),\n",
    "    )\n",
    "\n",
    "A = IndexedBase('A')\n",
    "B = IndexedBase('B')\n",
    "n = symbols('n')\n",
    "\n",
    "sol = sum_map(lambda idx, term: Xsol.subs({\n",
    "    C1: A[idx],\n",
    "    C2: B[idx],\n",
    "    k : term,\n",
    "}), K, idx=n)\n",
    "\n",
    "\n",
    "print('General solution:')\n",
    "display(sol)\n",
    "# TODO do we need to eliminate negative coefficients??\n",
    "\n",
    "# imageset(lambda u: u**2, allowed_ks)\n",
    "#Xsol\n",
    "# print(allowed_ks.domain)\n",
    "# ok, now we basically restrict ourselves to considering only specific waves\n",
    "\n",
    "# TODO pick first N coeffs and do initial transform?\n",
    "\n",
    "#bcs = [\n",
    "#    ,\n",
    "#    Xsol.subs(x, x_r),\n",
    "#]\n",
    "#linsolve(bcs, [C1, C2], exclude=[k], simplify=False)\n",
    "#bcs\n",
    "\n",
    "# usol = Xsol.rhs * Tsol.rhs\n",
    "# linsolve(, [C1, C2])\n",
    "\n",
    "# TODO shit. it doesn't seem to work..\n",
    "# classify_ode(eqX - k)\n",
    "# Xsol\n",
    "# classify_ode(eqX - k, X)\n",
    "\n",
    "# dir(Xsol.subs(x, x_l))\n",
    "\n",
    "# TODO ugh, c1 c2??\n",
    "\n",
    "\n",
    "# usol\n",
    "# TODO bcs"
   ]
  },
  {
   "cell_type": "code",
   "execution_count": 139,
   "metadata": {},
   "outputs": [
    {
     "data": {
      "image/png": "[encoded data removed]",
      "text/latex": [
       "$$\\left\\{\\left ( 0, \\quad 0\\right )\\right\\}$$"
      ],
      "text/plain": [
       "{(0, 0)}"
      ]
     },
     "execution_count": 139,
     "metadata": {},
     "output_type": "execute_result"
    }
   ],
   "source": [
    "# shit. it can't handle restrictions on k :(\n",
    "from sympy.solvers.solveset import linsolve as slinsolve\n",
    "\n",
    "A, B, k = symbols('A B k')\n",
    "\n",
    "\n",
    "slinsolve([\n",
    "    A * exp(sqrt(-k)) + exp(sqrt(k)),\n",
    "], [A])\n",
    "\n",
    "# right, it just can't figure out multiple solutions??\n",
    "# solveset(exp(k) - 1)\n",
    "\n",
    "# shit, it can't handle eliminating certain k's :( \n",
    "slinsolve([\n",
    "    A,\n",
    "    0,\n",
    "    #exp(k) - 1,\n",
    "], [A, B])\n",
    "\n",
    "E = symbols('E', real=True)\n",
    "k = symbols('k')\n",
    "\n",
    "# TODO shit, it won't handle sqrt??\n",
    "solveset(exp(k) - exp(-k))\n",
    "\n",
    "\n",
    "# solveset(exp(k) - 1)\n",
    "solveset(exp(sqrt(k**2)) - 1)\n",
    "\n",
    "slinsolve([\n",
    "    A + B,\n",
    "    A * exp(- k) + B * exp(k),\n",
    "],\n",
    "    [A, B]\n",
    ")\n",
    "\n",
    "\n",
    "#solve([\n",
    "#    exp(k) + 1,\n",
    "#], returns='solveset')\n"
   ]
  }
 ],
 "metadata": {
  "kernelspec": {
   "display_name": "Python 3",
   "language": "python",
   "name": "python3"
  },
  "language_info": {
   "codemirror_mode": {
    "name": "ipython",
    "version": 3
   },
   "file_extension": ".py",
   "mimetype": "text/x-python",
   "name": "python",
   "nbconvert_exporter": "python",
   "pygments_lexer": "ipython3",
   "version": "3.6.7"
  }
 },
 "nbformat": 4,
 "nbformat_minor": 2
}
