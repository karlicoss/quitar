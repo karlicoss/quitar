{
 "cells": [
  {
   "cell_type": "markdown",
   "metadata": {},
   "source": [
    "Recently I've been trying to play with wave equation for a guitar/piano string. I wanted to try out different boundary conditions, maybe the inhomogenous versions of equation. (TODO link to manual solution) Anyway, I didn't feel like doing that on paper (especially tedious when you're using something other than 1 for the various string parameters), and wanted to get something closed form and analytical for performance reasons. Sympy was a natural choice for that... but it turned out to be pretty tricky even for the simplest wave equation!"
   ]
  },
  {
   "cell_type": "code",
   "execution_count": 5,
   "metadata": {},
   "outputs": [],
   "source": [
    "from IPython.display import display, Markdown, Latex, HTML, Math\n",
    "from sympy import *\n",
    "init_printing(use_latex='mathjax')\n",
    "\n",
    "# TODO fucking hell why is that so hard\n",
    "class ListOfThings:\n",
    "    def __init__(self, *things):\n",
    "        self.things = things\n",
    "\n",
    "    def _repr_html_(self):\n",
    "        htmls = []\n",
    "        for x in self.things:\n",
    "            return Latex(latex(x))._repr_html_()\n",
    "        return ''.join( [\n",
    "           \"<span class='listofthings'>%s</span>\" % html(s)\n",
    "           for s in self.things\n",
    "           ])\n",
    "#def ldisplay(*things):\n",
    "#    display(ListOfThings(*things))\n",
    "    \n",
    "def ldisplay(fstr, *args, **kwargs):\n",
    "    display(Math(fstr.format(*(latex(v) for v in args), *{k: latex(v) for k, v in kwargs.items()})))"
   ]
  },
  {
   "cell_type": "markdown",
   "metadata": {},
   "source": [
    "Ok, let's define the equation in Sympy now."
   ]
  },
  {
   "cell_type": "code",
   "execution_count": 6,
   "metadata": {},
   "outputs": [
    {
     "data": {
      "text/latex": [
       "$$PDE: \\frac{\\partial^{2}}{\\partial x^{2}} u{\\left (x,t \\right )} = \\frac{\\partial^{2}}{\\partial t^{2}} u{\\left (x,t \\right )}$$"
      ],
      "text/plain": [
       "<IPython.core.display.Math object>"
      ]
     },
     "metadata": {},
     "output_type": "display_data"
    },
    {
     "data": {
      "text/latex": [
       "$$BCs: u(x_l, t) = 0, u(x_r, t) = 0, x_l=0, x_r=L$$"
      ],
      "text/plain": [
       "<IPython.core.display.Math object>"
      ]
     },
     "metadata": {},
     "output_type": "display_data"
    }
   ],
   "source": [
    "from sympy import Derivative as D, Function as F\n",
    "x, t = symbols('x t', real=True)\n",
    "u = F('u')(x, t)\n",
    "eq = Eq(D(u, x, 2), D(u, t, 2))\n",
    "x_l = 0\n",
    "L = symbols('L', real=True)\n",
    "x_r = L\n",
    "ldisplay(\"PDE: {}\", eq) # TODO velocity??\n",
    "ldisplay(\"BCs: u(x_l, t) = 0, u(x_r, t) = 0, x_l={}, x_r={}\", x_l, x_r)"
   ]
  },
  {
   "cell_type": "markdown",
   "metadata": {},
   "source": [
    "For solving partial differential equations, we've got `sympy.solvers.pde.pdsolve`. However, there seems to be no way to specify initial/boundary conditions for it. Or well, I guess we'd have to deal with them later. Let's give it a try:"
   ]
  },
  {
   "cell_type": "code",
   "execution_count": 7,
   "metadata": {},
   "outputs": [],
   "source": [
    "# pdsolve(eq)\n",
    "# TODO shit! sympy stops at first error..."
   ]
  },
  {
   "cell_type": "markdown",
   "metadata": {},
   "source": [
    "Huh. It can't handle wave equation?? What can it do?"
   ]
  },
  {
   "cell_type": "code",
   "execution_count": 8,
   "metadata": {},
   "outputs": [
    {
     "data": {
      "text/plain": [
       "('1st_linear_constant_coeff_homogeneous',\n",
       " '1st_linear_constant_coeff',\n",
       " '1st_linear_constant_coeff_Integral',\n",
       " '1st_linear_variable_coeff')"
      ]
     },
     "metadata": {},
     "output_type": "display_data"
    }
   ],
   "source": [
    "display(pde.allhints)"
   ]
  },
  {
   "cell_type": "markdown",
   "metadata": {},
   "source": [
    "Sigh. No second order? That's a bit embarrasing. Ok, turns out it can at least aid with the separation of variables."
   ]
  },
  {
   "cell_type": "code",
   "execution_count": 9,
   "metadata": {},
   "outputs": [
    {
     "data": {
      "text/latex": [
       "$$\\left ( \\frac{\\frac{d^{2}}{d x^{2}} X{\\left (x \\right )}}{X{\\left (x \\right )}}, \\quad \\frac{\\frac{d^{2}}{d t^{2}} T{\\left (t \\right )}}{T{\\left (t \\right )}}\\right )$$"
      ],
      "text/plain": [
       "⎛  2          2      ⎞\n",
       "⎜ d          d       ⎟\n",
       "⎜───(X(x))  ───(T(t))⎟\n",
       "⎜  2          2      ⎟\n",
       "⎜dx         dt       ⎟\n",
       "⎜─────────, ─────────⎟\n",
       "⎝   X(x)       T(t)  ⎠"
      ]
     },
     "metadata": {},
     "output_type": "display_data"
    }
   ],
   "source": [
    "X = F('X')(x)\n",
    "T = F('T')(t)\n",
    "[sep_X, sep_T] = pde_separate_mul(eq, u, [X, T])\n",
    "display((sep_X, sep_T))"
   ]
  },
  {
   "cell_type": "markdown",
   "metadata": {},
   "source": [
    "As always with separation of variables, we've have to equate these with some constant. I guess I won't surprise you now by denoting it as $-E$."
   ]
  },
  {
   "cell_type": "code",
   "execution_count": 10,
   "metadata": {},
   "outputs": [
    {
     "data": {
      "text/latex": [
       "$$\\left ( \\frac{\\frac{d^{2}}{d x^{2}} X{\\left (x \\right )}}{X{\\left (x \\right )}} = - E, \\quad \\frac{\\frac{d^{2}}{d t^{2}} T{\\left (t \\right )}}{T{\\left (t \\right )}} = - E\\right )$$"
      ],
      "text/plain": [
       "⎛  2               2           ⎞\n",
       "⎜ d               d            ⎟\n",
       "⎜───(X(x))       ───(T(t))     ⎟\n",
       "⎜  2               2           ⎟\n",
       "⎜dx              dt            ⎟\n",
       "⎜───────── = -E, ───────── = -E⎟\n",
       "⎝   X(x)            T(t)       ⎠"
      ]
     },
     "metadata": {},
     "output_type": "display_data"
    }
   ],
   "source": [
    "E = symbols('E')# , real=True)\n",
    "eqX = Eq(sep_X, -E)\n",
    "eqT = Eq(sep_T, -E)\n",
    "display((eqX, eqT))"
   ]
  },
  {
   "cell_type": "markdown",
   "metadata": {},
   "source": [
    "Let's start with solving for $X$. `sympy.solvers.ode.dsolve` does seem to support boundary conditions! Let's try that. First, let's check whether we can aid sympy at solving this:"
   ]
  },
  {
   "cell_type": "code",
   "execution_count": 11,
   "metadata": {},
   "outputs": [
    {
     "data": {
      "text/plain": [
       "('nth_linear_constant_coeff_homogeneous', '2nd_power_series_ordinary')"
      ]
     },
     "execution_count": 11,
     "metadata": {},
     "output_type": "execute_result"
    }
   ],
   "source": [
    "classify_ode(eqX)"
   ]
  },
  {
   "cell_type": "markdown",
   "metadata": {},
   "source": [
    "Cool, so it should be capable of handling that!"
   ]
  },
  {
   "cell_type": "code",
   "execution_count": 12,
   "metadata": {},
   "outputs": [
    {
     "data": {
      "text/latex": [
       "$$BCS: X{\\left (0 \\right )} = 0, X{\\left (L \\right )} = 0$$"
      ],
      "text/plain": [
       "<IPython.core.display.Math object>"
      ]
     },
     "metadata": {},
     "output_type": "display_data"
    },
    {
     "data": {
      "text/latex": [
       "$$X{\\left (x \\right )} = 0$$"
      ],
      "text/plain": [
       "X(x) = 0"
      ]
     },
     "metadata": {},
     "output_type": "display_data"
    }
   ],
   "source": [
    "bc_l = Eq(X.subs(x, x_l), 0)\n",
    "bc_r = Eq(X.subs(x, x_r), 0)\n",
    "ldisplay(\"BCS: {}, {}\", bc_l, bc_r)\n",
    "Xsol = dsolve(\n",
    "    eqX,\n",
    "    X,\n",
    "    ics={\n",
    "        bc_l.lhs: bc_l.rhs,\n",
    "        bc_r.lhs: bc_l.rhs,\n",
    "    },\n",
    "    hint='nth_linear_constant_coeff_homogeneous',\n",
    ")\n",
    "display(Xsol)"
   ]
  },
  {
   "cell_type": "markdown",
   "metadata": {},
   "source": [
    "Huh? It certainly is a solution, but we all know there's gotta be more. Let's take a look at the general solution then..."
   ]
  },
  {
   "cell_type": "code",
   "execution_count": 22,
   "metadata": {},
   "outputs": [
    {
     "data": {
      "text/latex": [
       "$$X{\\left (x \\right )} = C_{1} e^{- x \\sqrt{- E}} + C_{2} e^{x \\sqrt{- E}}$$"
      ],
      "text/plain": [
       "                ____           ____\n",
       "           -x⋅╲╱ -E        x⋅╲╱ -E \n",
       "X(x) = C₁⋅ℯ          + C₂⋅ℯ        "
      ]
     },
     "metadata": {},
     "output_type": "display_data"
    }
   ],
   "source": [
    "Xsol = dsolve(\n",
    "    eqX,\n",
    "    X,\n",
    "    hint='nth_linear_constant_coeff_homogeneous',\n",
    "    returns = 'both',\n",
    ")\n",
    "display(Xsol)"
   ]
  },
  {
   "cell_type": "markdown",
   "metadata": {},
   "source": [
    "And now, solve the system of the initital conditions manually. One problem with that is -- how do you know what are the integration variables. I mean, we can see it's $C_1$ and $C_2$, but how to we get them in python? Surely we can't rely on `symbols('C_1 C_2')` since no one guarantees they would be named same in the next version of sympy. First thing I did was to declare `consts = Xsol.free_symbols.difference({E, x}))`. After looking at ode module source code, turned out once could make it [even more elegant](https://github.com/sympy/sympy/blob/a627ef1d3b8d89be3349d6d59d8642d64afb02e5/sympy/solvers/ode.py#L636)."
   ]
  },
  {
   "cell_type": "code",
   "execution_count": 24,
   "metadata": {},
   "outputs": [
    {
     "data": {
      "text/latex": [
       "$$\\left [ C_{1} + C_{2} = 0, \\quad C_{1} e^{- L \\sqrt{- E}} + C_{2} e^{L \\sqrt{- E}} = 0\\right ]$$"
      ],
      "text/plain": [
       "⎡                      ____           ____    ⎤\n",
       "⎢                 -L⋅╲╱ -E        L⋅╲╱ -E     ⎥\n",
       "⎣C₁ + C₂ = 0, C₁⋅ℯ          + C₂⋅ℯ         = 0⎦"
      ]
     },
     "metadata": {},
     "output_type": "display_data"
    },
    {
     "data": {
      "text/latex": [
       "$$\\left\\{\\left ( 0, \\quad 0\\right )\\right\\}$$"
      ],
      "text/plain": [
       "{(0, 0)}"
      ]
     },
     "execution_count": 24,
     "metadata": {},
     "output_type": "execute_result"
    }
   ],
   "source": [
    "constants = Xsol.free_symbols - eqX.free_symbols\n",
    "system = [\n",
    "    Eq(Xsol.subs(x, x_l).rhs, 0),\n",
    "    Eq(Xsol.subs(x, x_r).rhs, 0),\n",
    "]\n",
    "display(system)\n",
    "\n",
    "linsolve(system, constants)\n",
    "\n",
    "from sympy.solvers.solveset import linsolve as slinsolve\n",
    "slinsolve(system, constants)"
   ]
  },
  {
   "cell_type": "code",
   "execution_count": 15,
   "metadata": {},
   "outputs": [
    {
     "name": "stdout",
     "output_type": "stream",
     "text": [
      "General solutions for X and T:\n"
     ]
    },
    {
     "data": {
      "text/latex": [
       "$$\\left ( C_{1} e^{- x \\sqrt{- E}} + C_{2} e^{x \\sqrt{- E}}, \\quad C_{1} e^{- t \\sqrt{- E}} + C_{2} e^{t \\sqrt{- E}}\\right )$$"
      ],
      "text/plain": [
       "⎛         ____           ____           ____           ____⎞\n",
       "⎜    -x⋅╲╱ -E        x⋅╲╱ -E       -t⋅╲╱ -E        t⋅╲╱ -E ⎟\n",
       "⎝C₁⋅ℯ          + C₂⋅ℯ        , C₁⋅ℯ          + C₂⋅ℯ        ⎠"
      ]
     },
     "metadata": {},
     "output_type": "display_data"
    },
    {
     "ename": "ValueError",
     "evalue": "too many values to unpack (expected 2)",
     "output_type": "error",
     "traceback": [
      "\u001b[0;31m---------------------------------------------------------------------------\u001b[0m",
      "\u001b[0;31mValueError\u001b[0m                                Traceback (most recent call last)",
      "\u001b[0;32m<ipython-input-15-32642abb59c4>\u001b[0m in \u001b[0;36m<module>\u001b[0;34m()\u001b[0m\n\u001b[1;32m     28\u001b[0m \u001b[0;34m\u001b[0m\u001b[0m\n\u001b[1;32m     29\u001b[0m \u001b[0;31m# how to specify constants for DE solver??\u001b[0m\u001b[0;34m\u001b[0m\u001b[0;34m\u001b[0m\u001b[0;34m\u001b[0m\u001b[0m\n\u001b[0;32m---> 30\u001b[0;31m \u001b[0;34m[\u001b[0m\u001b[0mC1\u001b[0m\u001b[0;34m,\u001b[0m \u001b[0mC2\u001b[0m\u001b[0;34m]\u001b[0m \u001b[0;34m=\u001b[0m \u001b[0mlist\u001b[0m\u001b[0;34m(\u001b[0m\u001b[0mXsol\u001b[0m\u001b[0;34m.\u001b[0m\u001b[0mfree_symbols\u001b[0m\u001b[0;34m.\u001b[0m\u001b[0mdifference\u001b[0m\u001b[0;34m(\u001b[0m\u001b[0;34m{\u001b[0m\u001b[0mk\u001b[0m\u001b[0;34m,\u001b[0m \u001b[0mx\u001b[0m\u001b[0;34m}\u001b[0m\u001b[0;34m)\u001b[0m\u001b[0;34m)\u001b[0m\u001b[0;34m\u001b[0m\u001b[0;34m\u001b[0m\u001b[0m\n\u001b[0m\u001b[1;32m     31\u001b[0m \u001b[0;34m\u001b[0m\u001b[0m\n\u001b[1;32m     32\u001b[0m \u001b[0mbcs_l\u001b[0m \u001b[0;34m=\u001b[0m \u001b[0mEq\u001b[0m\u001b[0;34m(\u001b[0m\u001b[0mXsol\u001b[0m\u001b[0;34m.\u001b[0m\u001b[0msubs\u001b[0m\u001b[0;34m(\u001b[0m\u001b[0mx\u001b[0m\u001b[0;34m,\u001b[0m \u001b[0mx_l\u001b[0m\u001b[0;34m)\u001b[0m\u001b[0;34m)\u001b[0m\u001b[0;34m\u001b[0m\u001b[0;34m\u001b[0m\u001b[0m\n",
      "\u001b[0;31mValueError\u001b[0m: too many values to unpack (expected 2)"
     ]
    }
   ],
   "source": [
    "from sympy.solvers.solveset import linsolve\n",
    "from sympy.solvers.ode import ode_nth_linear_constant_coeff_homogeneous as ode_solve\n",
    "\n",
    "from sympy.core.numbers import IntegerConstant\n",
    "\n",
    "# `\n",
    "k = symbols('k')\n",
    "E = k ** 2\n",
    "# E = symbols('E', real=True)\n",
    "# eqT = Eq(_eqT + E) # ).canonical\n",
    "# canonical moves all variables to the left and numbers to the right\n",
    "Tsol = dsolve(eqT).rhs\n",
    "# shit, it won't eliminate solutions based on k :(\n",
    "Xsol = dsolve(\n",
    "    eqX,\n",
    "    X,\n",
    "    #ics={\n",
    "    #    X.subs(x, x_l): 0,\n",
    "    #    X.subs(x, x_r): 0,            \n",
    "    #},\n",
    "    hint='nth_linear_constant_coeff_homogeneous',\n",
    "    # returns = 'both',\n",
    "    \n",
    ").rhs\n",
    "\n",
    "print(\"General solutions for X and T:\")\n",
    "display((Xsol, Tsol))\n",
    "\n",
    "# how to specify constants for DE solver??\n",
    "[C1, C2] = list(Xsol.free_symbols.difference({k, x}))\n",
    "\n",
    "bcs_l = Eq(Xsol.subs(x, x_l))\n",
    "bcs_r = Eq(Xsol.subs(x, x_r))\n",
    "\n",
    "print(\"BC enforces:\")\n",
    "display((bcs_l, bcs_r))\n",
    "\n",
    "\n",
    "# TODO blog about that, give examples?\n",
    "# so, solveset stuff can't handle \n",
    "[c1_c2] = solve(bcs_l, C1)\n",
    "# solve(bcs_r.subs(C1, c1_c2))\n",
    "# [{C2:0},{k:0},{k:iπ}]\n",
    "# TODO what do we do with C2 = 0 solution???\n",
    "K = solveset(bcs_r.subs(C1, c1_c2), k)\n",
    "\n",
    "print(\"Allowed values of k:\")\n",
    "display(K)\n",
    "\n",
    "# TODO how to eliminate negative k solutions?\n",
    "# there must be something wrong with our approach if we have to do that manually. right?\n",
    "# something unnatural. maybe we want to impose some sort of symmetry first??\n",
    "# ah, basically separate equation in left and right waves first?\n",
    "\n",
    "# so, can we eliminate extra constants and instead use the whole range of ks ????\n",
    "\n",
    "# hmm. maybe the redundancy is coming from separation of variables? e.g. negative and positive energies?\n",
    "\n",
    "\n",
    "# TODO generate sequence of edits from git commits?...\n",
    "\n",
    "# basis = imageset(lambda kk: Xsol.subs(k, kk), K)\n",
    "# print(\"Solutions basis:\")\n",
    "# display(basis)\n",
    "\n",
    "# here, sympy retuns something called ImageSet. it basically means that the solutions image of Z under x -> x i pi\n",
    "\n",
    "\n",
    "# right, how to define infinite coefficients? can it just be a function?\n",
    "# TODO how to sum something over imageset????\n",
    "\n",
    "# TODO base_set??\n",
    "\n",
    "\n",
    "# shit, that didn't work. requires lower and upper bounds\n",
    "# kinda makes sense, we can't just sum over arbitrary sets...\n",
    "# but we do want to sum over countable sets!\n",
    "\n",
    "def sum_map(f, iset, idx):\n",
    "    return Sum(\n",
    "        f(idx, iset.lamda(idx)),\n",
    "        (idx, iset.base_set._inf, iset.base_set._sup),\n",
    "    )\n",
    "\n",
    "A = IndexedBase('A')\n",
    "B = IndexedBase('B')\n",
    "n = symbols('n')\n",
    "\n",
    "sol = sum_map(lambda idx, term: Xsol.subs({\n",
    "    C1: A[idx],\n",
    "    C2: B[idx],\n",
    "    k : term,\n",
    "}), K, idx=n)\n",
    "\n",
    "\n",
    "print('General solution:')\n",
    "display(sol)\n",
    "\n",
    "# hmm, it's a bit awkward, we've got quite a bit of redundancy in \n",
    "# in textbooks, that's violated in an ad-hoc manner at the step (TODO refer to line, with a marker?)\n",
    "# the proper way to deal with this would be rewriting the solution\n",
    "# and only then enforce a bc!\n",
    "\n",
    "# TODO do we need to eliminate negative coefficients??\n",
    "\n",
    "# imageset(lambda u: u**2, allowed_ks)\n",
    "#Xsol\n",
    "# print(allowed_ks.domain)\n",
    "# ok, now we basically restrict ourselves to considering only specific waves\n",
    "\n",
    "# TODO pick first N coeffs and do initial transform?\n",
    "# usol = Xsol.rhs * Tsol.rhs\n",
    "# linsolve(, [C1, C2])\n",
    "print(\"rewrite: C[0] = (A_0 + B_0) / 2; for n>0: C[n] = B_n + A_{-n}; C[-n] = B_{-n} + A_n\")\n",
    "# C = IndexedBase('C')\n",
    "C = Function('C')\n",
    "# sol = Sum(C[n] * exp(I * pi * n * x), (n, -oo, oo))\n",
    "\n",
    "# TODO here, extract the exponent from split solution..\n",
    "sol = Integral(C(k) * exp(I * k * x), (k, -oo, oo))\n",
    "print(\"General sol\")\n",
    "display(sol)\n",
    "# TODO how to check they are equivalent??\n",
    "bc_l = sol.subs(x, x_l)\n",
    "bc_r = sol.subs(x, x_r)\n",
    "print(\"BCS:\")\n",
    "display((Eq(bc_l), Eq(bc_r)))\n",
    "# TODO is there a way to solve that automatically???\n",
    "\n",
    "def mComm(expr, cls):\n",
    "    assert isinstance(expr, cls)\n",
    "    return expr.args\n",
    "\n",
    "def mAdd(expr):\n",
    "    # TODO is there anything standard in sympy?\n",
    "    return mComm(expr, Add)\n",
    "    \n",
    "def mMul(expr):\n",
    "    return mComm(expr, Mul)\n",
    "\n",
    "def mIntegral(expr):\n",
    "    assert isinstance(expr, Integral), type(i)\n",
    "    return expr.limits, expr.function\n",
    "\n",
    "def pullIntegral(expr):\n",
    "    if isinstance(expr, Integral):\n",
    "        return expr\n",
    "    if isinstance(expr, Mul):\n",
    "        # TODO might work for a constant...\n",
    "        parts = [pullIntegral(p) for p in mMul(expr)]\n",
    "        # TODO only one should be integral, rest constants?\n",
    "        consts = []\n",
    "        rest = []\n",
    "        for p in parts:\n",
    "            if isinstance(p, IntegerConstant):\n",
    "                consts.append(p)\n",
    "            else:\n",
    "                rest.append(p)\n",
    "        rest = [pullIntegral(r) for r in rest]\n",
    "        res = None\n",
    "        if len(rest) == 1:\n",
    "            lims, fun = mIntegral(rest[0])\n",
    "            res = Integral(Mul(*consts) * fun, lims)\n",
    "            return res\n",
    "        else:\n",
    "            res = Mul(*consts)\n",
    "            if len(rest) > 0:\n",
    "                res = res * Mul(*rest)\n",
    "            return res\n",
    "    return expr\n",
    "    \n",
    "\n",
    "def asIntegral(expr):\n",
    "    res = pullIntegral(expr)\n",
    "    assert isinstance(res, Integral), type(res)\n",
    "    return res\n",
    "    # if is\n",
    "\n",
    "def combine_isum(isum):\n",
    "    parts = mAdd(isum)\n",
    "    parts = [asIntegral(p) for p in parts]\n",
    "    # TODO shit, is there something for pulling stuff under integral?\n",
    "    # TODO expression with limits\n",
    "    lims = [i.limits for i in parts]\n",
    "    exprs = [i.function for i in parts]\n",
    "    [lim] = list(set(lims))\n",
    "    return Integral(Add(*exprs), lim)\n",
    "    \n",
    "    # TODO generify for expr with limits\n",
    "    \n",
    "def int2sum(thing):\n",
    "    lims, func = mIntegral(thing)\n",
    "    [q1, _] = mMul(func)\n",
    "    KK = solveset(q1, k)\n",
    "    return KK\n",
    "    \n",
    "    # TODO how to bind it to list of integrals? some sort of generic shape??\n",
    "# TODO right! so if we got independent things, we should test BOTH linear combinations\n",
    "bcs1 = rcollect(combine_isum(bc_l + bc_r), C(k))\n",
    "display(bcs1)\n",
    "\n",
    "bcs2 = rcollect(combine_isum(bc_l - bc_r), C(k))\n",
    "display(bcs2)\n",
    "\n",
    "#lims1, func1 = mIntegral(bcs1)\n",
    "#[qq1, _] = mMul(func1)\n",
    "#lims2, func2 = mIntegral(bcs2)\n",
    "#[qq2, _] = mMul(func2)\n",
    "\n",
    "#from sympy.solvers.solveset import linsolve as slinsolve, nonlinsolve as snonlinsolve\n",
    "# KK = solveset([qq1, qq2], k)\n",
    "\n",
    "# KK = slinsolve([qq1, qq2], k)\n",
    "# display(qq1)\n",
    "# display(qq2)\n",
    "# nope.. they were independent and should be solved independently!!\n",
    "\n",
    "def the(objs):\n",
    "    assert len(objs) > 0, \"expected non-empty list\"\n",
    "    assert all([o == objs[0] for o in objs]), \"not all objects are equal\"\n",
    "    return objs[0]\n",
    "\n",
    "def asLambda1(expr):\n",
    "    assert isinstance(expr, Lambda)\n",
    "    return expr.variables, expr.expr\n",
    "\n",
    "# TODO https://docs.sympy.org/latest/tutorial/manipulation.html is not too helpful though...\n",
    "def combine_imagesets(s1, s2):\n",
    "    display(s1)\n",
    "    display(s2)\n",
    "    sets = [s1, s2]\n",
    "    # TODO assert all are image sets? or pull them out\n",
    "    dom = the([s.base_set for s in sets])\n",
    "    # TODO ok, need to  analyse lamdas...\n",
    "    # TODO should be same variable???\n",
    "    v1, e1 = asLambda1(s1.lamda)\n",
    "    v2, e2 = asLambda1(s2.lamda)\n",
    "    # print(cse([e1, e2]))\n",
    "    # assert v1 == v2\n",
    "    # basically, we need to figure out if e1 == e2 for some n? then we can discard one of them!!\n",
    "    # and if only one elem left, we don't need the finiteset?\n",
    "    # ah shit, we need to replace the function!\n",
    "    # display(solve(e1 - e2))\n",
    "    print(\"GCD\")\n",
    "    display(factor_list(e1))\n",
    "    display(factor_list(e2))\n",
    "    display(gcd_terms([e1, e2]))\n",
    "    return imageset(lambda q: FiniteSet(*[s.lamda(q) for s in sets]), dom)\n",
    "    \n",
    "    \n",
    "# TODO shit, how to simplify them???\n",
    "# combine_imagesets()\n",
    "# fucking hell. why is that so tricky????\n",
    "# anyway:\n",
    "display(int2sum(bcs) + int2sum(bcs2))\n",
    "print(\"which is same as:\")\n",
    "# TODO again, need some sort of quickcheck for expressions, sets etc\n",
    "n = symbols('n')\n",
    "Ns = imageset(Lambda(n, pi * n), Integers)\n",
    "display(Ns)\n",
    "# TODO now we actually need int2sum\n",
    "# something that pick subintegral expression \n",
    "\n",
    "def change_limits(expr, ns):\n",
    "    # expr.limits\n",
    "    ef = expr.function\n",
    "    [ev] = expr.variables\n",
    "    lamda = ns.lamda\n",
    "    lf = lamda.expr\n",
    "    [lv] = lamda.variables\n",
    "    bs = ns.base_set   \n",
    "    return Sum(ef.subs(ev, lamda(lv)), (lv, bs._inf, bs._sup))\n",
    "# ugh. so dirty..\n",
    "res2 = change_limits(sol, Ns)\n",
    "print(\"After substituting restrictions on wavevectors\")\n",
    "display(res2)\n",
    "\n",
    "\n",
    "\n",
    "from sympy.integrals.transforms import _fourier_transform\n",
    "\n",
    "u = symbols('u')\n",
    "integrate(res2 * exp(-I * pi * u * x), (x, x_l, x_r))\n",
    "\n",
    "# shit. I guess we run at the fact that expr(-I pi u x) are not basis functions for the problem once again...\n",
    "# still, shouldn't prevent us from solving. right???\n",
    "\n",
    "\n",
    "# fucking hell.. why does that work???\n",
    "\n",
    "\n",
    "# TODO next: initial condition to find Cs?\n",
    "# basically, here we're going to restrict ourselves? or we can get away with fully symbolic for a while?...\n",
    "# TODO ok, just multiply all by exp(- i pi k x)\n",
    "# TODO how to eliminate C_{k+1} vs C_{k-1} ???\n",
    "# wonder if division by two in classic particle in a box coming from the fact that they have to normalise by 2\n",
    "# since they are using degenerate solution space\n",
    "\n",
    "\n",
    "# TODO do final chage of variables from C(pi * n) to some indexed function?..\n",
    "\n",
    "# TODO shit... but coeffs are not independent.. because originally we had two equations??\n",
    "# mm. ok, individual things don't have to satisfy bcs!\n",
    "\n",
    "\n",
    "    \n",
    "# when k = 2 pi n, it works for any C\n",
    "# when it's not, thet that can only work when all of C are 0, due to properties of L^2 space\n",
    "# TODO could implement solving integral equations in python?...\n",
    "# basically, C(k) is non-zero on k = 2 pi n and 0 otherwise\n",
    "\n",
    "# TODO hmm interesting, looks kinda like a discrepancy between pi *n and 2 n pi + pi\n",
    "# but, actually, I guess this is kinda disguised in the linear combination thing! this form explicitly forbids cosines!"
   ]
  },
  {
   "cell_type": "code",
   "execution_count": null,
   "metadata": {},
   "outputs": [],
   "source": [
    "# shit. it can't handle restrictions on k :(\n",
    "from sympy.solvers.solveset import linsolve as slinsolve\n",
    "\n",
    "A, B, k = symbols('A B k')\n",
    "\n",
    "\n",
    "slinsolve([\n",
    "    A * exp(sqrt(-k)) + exp(sqrt(k)),\n",
    "], [A])\n",
    "\n",
    "# right, it just can't figure out multiple solutions??\n",
    "# solveset(exp(k) - 1)\n",
    "\n",
    "# shit, it can't handle eliminating certain k's :( \n",
    "slinsolve([\n",
    "    A,\n",
    "    0,\n",
    "    #exp(k) - 1,\n",
    "], [A, B])\n",
    "\n",
    "E = symbols('E', real=True)\n",
    "k = symbols('k')\n",
    "\n",
    "# TODO shit, it won't handle sqrt??\n",
    "solveset(exp(k) - exp(-k))\n",
    "\n",
    "\n",
    "# solveset(exp(k) - 1)\n",
    "solveset(exp(sqrt(k**2)) - 1)\n",
    "\n",
    "slinsolve([\n",
    "    A + B,\n",
    "    A * exp(- k) + B * exp(k),\n",
    "],\n",
    "    [A, B]\n",
    ")\n",
    "\n",
    "\n",
    "#solve([\n",
    "#    exp(k) + 1,\n",
    "#], returns='solveset')\n"
   ]
  },
  {
   "cell_type": "code",
   "execution_count": null,
   "metadata": {},
   "outputs": [],
   "source": [
    "from sympy.core.rules import Transform\n",
    "def split(integ):\n",
    "    return Add(*[integ.func(term, *integ.args[1:]) for term in Add.make_args(integ.args[0])])\n",
    "F = Function('F')\n",
    "G = Function('G')\n",
    "H = Function('H')\n",
    "A, B = symbols('A B')\n",
    "z = symbols('z')\n",
    "v = symbols('v')\n",
    "it = Integral(F(z) * z + -G(z) * z, (z, 0, oo))\n",
    "display(it)\n",
    "thing = it.xreplace(Transform(split, lambda i: isinstance(i, Integral)))\n",
    "\n",
    "[left, right] = mAdd(thing)\n",
    "rrr = Add(\n",
    "    left,\n",
    "    right.transform(-z, z),\n",
    ")\n",
    "display(rrr)\n",
    "rrr.subs_expr({\n",
    "    F(z): H(z),\n",
    "    G(-z): H(z),\n",
    "})\n",
    "# TODO shit...\n",
    "# TODO replace function with a partial??\n",
    "\n",
    "\n",
    "\n",
    "# TODO how to assert that expressions are equivalent???"
   ]
  },
  {
   "cell_type": "code",
   "execution_count": null,
   "metadata": {},
   "outputs": [],
   "source": [
    "q, w = symbols('q w')\n",
    "ee = Eq(q, w)\n",
    "ee.subs(q, 0)\n",
    "# display(ee)"
   ]
  }
 ],
 "metadata": {
  "kernelspec": {
   "display_name": "Python 3",
   "language": "python",
   "name": "python3"
  },
  "language_info": {
   "codemirror_mode": {
    "name": "ipython",
    "version": 3
   },
   "file_extension": ".py",
   "mimetype": "text/x-python",
   "name": "python",
   "nbconvert_exporter": "python",
   "pygments_lexer": "ipython3",
   "version": "3.6.7"
  }
 },
 "nbformat": 4,
 "nbformat_minor": 2
}
