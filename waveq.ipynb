{
 "cells": [
  {
   "cell_type": "markdown",
   "metadata": {
    "ein.tags": "worksheet-0",
    "slideshow": {
     "slide_type": "-"
    }
   },
   "source": [
    "Recently I've been trying to play with wave equation for a guitar/piano string. I wanted to try out different boundary conditions, maybe the inhomogenous versions of equation. (TODO link to manual solution) Anyway, I didn't feel like doing that on paper (especially tedious when you're using something other than 1 for the various string parameters), and wanted to get something closed form and analytical for performance reasons. Sympy was a natural choice for that... but it turned out to be pretty tricky even for the simplest wave equation!\n",
    "The aim is basically to solve as much as possible without invoking assumptions coming from prior knowledge of the equation. That involves restricting the domains, assuming the specific shape of solution etc."
   ]
  },
  {
   "cell_type": "code",
   "execution_count": 1,
   "metadata": {
    "autoscroll": false,
    "ein.hycell": false,
    "ein.tags": "worksheet-0",
    "slideshow": {
     "slide_type": "-"
    }
   },
   "outputs": [],
   "source": [
    "from IPython.display import display, Markdown, Latex, HTML, Math\n",
    "from sympy import *\n",
    "init_printing(use_latex='mathjax')\n",
    "\n",
    "# TODO fucking hell why is that so hard\n",
    "class ListOfThings:\n",
    "    def __init__(self, *things):\n",
    "        self.things = things\n",
    "\n",
    "    def _repr_html_(self):\n",
    "        htmls = []\n",
    "        for x in self.things:\n",
    "            return Latex(latex(x))._repr_html_()\n",
    "        return ''.join( [\n",
    "           \"<span class='listofthings'>%s</span>\" % html(s)\n",
    "           for s in self.things\n",
    "           ])\n",
    "#def ldisplay(*things):\n",
    "#    display(ListOfThings(*things))\n",
    "\n",
    "def ldisplay(fstr, *args, **kwargs):\n",
    "    display(Math(fstr.format(*(latex(v) for v in args), *{k: latex(v) for k, v in kwargs.items()})))"
   ]
  },
  {
   "cell_type": "markdown",
   "metadata": {
    "ein.tags": "worksheet-0",
    "slideshow": {
     "slide_type": "-"
    }
   },
   "source": [
    "Ok, let's define the equation in Sympy now."
   ]
  },
  {
   "cell_type": "code",
   "execution_count": 2,
   "metadata": {
    "autoscroll": false,
    "ein.hycell": false,
    "ein.tags": "worksheet-0",
    "slideshow": {
     "slide_type": "-"
    }
   },
   "outputs": [
    {
     "data": {
      "text/latex": [
       "$$PDE: \\frac{\\partial^{2}}{\\partial x^{2}} u{\\left (x,t \\right )} = \\frac{\\partial^{2}}{\\partial t^{2}} u{\\left (x,t \\right )}$$"
      ],
      "text/plain": [
       "<IPython.core.display.Math object>"
      ]
     },
     "metadata": {},
     "output_type": "display_data"
    },
    {
     "data": {
      "text/latex": [
       "$$BCs: u(x_l, t) = 0, u(x_r, t) = 0, x_l=0, x_r=L$$"
      ],
      "text/plain": [
       "<IPython.core.display.Math object>"
      ]
     },
     "metadata": {},
     "output_type": "display_data"
    }
   ],
   "source": [
    "from sympy import Derivative as D, Function as F\n",
    "x, t = symbols('x t', real=True)\n",
    "u = F('u')(x, t)\n",
    "eq = Eq(D(u, x, 2), D(u, t, 2))\n",
    "x_l = 0\n",
    "L = symbols('L', real=True)\n",
    "x_r = L\n",
    "ldisplay(\"PDE: {}\", eq) # TODO velocity??\n",
    "ldisplay(\"BCs: u(x_l, t) = 0, u(x_r, t) = 0, x_l={}, x_r={}\", x_l, x_r)\n"
   ]
  },
  {
   "cell_type": "markdown",
   "metadata": {
    "ein.tags": "worksheet-0",
    "slideshow": {
     "slide_type": "-"
    }
   },
   "source": [
    "For solving partial differential equations, we've got `sympy.solvers.pde.pdsolve`. However, there seems to be no way to specify initial/boundary conditions for it. Or well, I guess we'd have to deal with them later. Let's give it a try:"
   ]
  },
  {
   "cell_type": "code",
   "execution_count": 3,
   "metadata": {
    "autoscroll": false,
    "ein.hycell": false,
    "ein.tags": "worksheet-0",
    "slideshow": {
     "slide_type": "-"
    }
   },
   "outputs": [],
   "source": [
    "# pdsolve(eq)\n",
    "# TODO shit! sympy stops at first error..."
   ]
  },
  {
   "cell_type": "markdown",
   "metadata": {
    "ein.tags": "worksheet-0",
    "slideshow": {
     "slide_type": "-"
    }
   },
   "source": [
    "Huh. It can't handle wave equation?? What can it do?"
   ]
  },
  {
   "cell_type": "code",
   "execution_count": 4,
   "metadata": {
    "autoscroll": false,
    "ein.hycell": false,
    "ein.tags": "worksheet-0",
    "slideshow": {
     "slide_type": "-"
    }
   },
   "outputs": [
    {
     "data": {
      "text/plain": [
       "('1st_linear_constant_coeff_homogeneous',\n",
       " '1st_linear_constant_coeff',\n",
       " '1st_linear_constant_coeff_Integral',\n",
       " '1st_linear_variable_coeff')"
      ]
     },
     "metadata": {},
     "output_type": "display_data"
    }
   ],
   "source": [
    "display(pde.allhints)"
   ]
  },
  {
   "cell_type": "markdown",
   "metadata": {
    "ein.tags": "worksheet-0",
    "slideshow": {
     "slide_type": "-"
    }
   },
   "source": [
    "Sigh. No second order? That's a bit embarrasing. Ok, turns out it can at least aid with the separation of variables."
   ]
  },
  {
   "cell_type": "code",
   "execution_count": 5,
   "metadata": {
    "autoscroll": false,
    "ein.hycell": false,
    "ein.tags": "worksheet-0",
    "slideshow": {
     "slide_type": "-"
    }
   },
   "outputs": [
    {
     "data": {
      "text/latex": [
       "$$\\left ( \\frac{\\frac{d^{2}}{d x^{2}} X{\\left (x \\right )}}{X{\\left (x \\right )}}, \\quad \\frac{\\frac{d^{2}}{d t^{2}} T{\\left (t \\right )}}{T{\\left (t \\right )}}\\right )$$"
      ],
      "text/plain": [
       "⎛  2          2      ⎞\n",
       "⎜ d          d       ⎟\n",
       "⎜───(X(x))  ───(T(t))⎟\n",
       "⎜  2          2      ⎟\n",
       "⎜dx         dt       ⎟\n",
       "⎜─────────, ─────────⎟\n",
       "⎝   X(x)       T(t)  ⎠"
      ]
     },
     "metadata": {},
     "output_type": "display_data"
    }
   ],
   "source": [
    "X = F('X')(x)\n",
    "T = F('T')(t)\n",
    "[sep_X, sep_T] = pde_separate_mul(eq, u, [X, T])\n",
    "display((sep_X, sep_T))"
   ]
  },
  {
   "cell_type": "markdown",
   "metadata": {
    "ein.tags": "worksheet-0",
    "slideshow": {
     "slide_type": "-"
    }
   },
   "source": [
    "As always with separation of variables, we've have to equate these with some constant. I guess I won't surprise you now by denoting it as $-E$."
   ]
  },
  {
   "cell_type": "code",
   "execution_count": 6,
   "metadata": {
    "autoscroll": false,
    "ein.hycell": false,
    "ein.tags": "worksheet-0",
    "slideshow": {
     "slide_type": "-"
    }
   },
   "outputs": [
    {
     "data": {
      "text/latex": [
       "$$\\left ( \\frac{\\frac{d^{2}}{d x^{2}} X{\\left (x \\right )}}{X{\\left (x \\right )}} = - E, \\quad \\frac{\\frac{d^{2}}{d t^{2}} T{\\left (t \\right )}}{T{\\left (t \\right )}} = - E\\right )$$"
      ],
      "text/plain": [
       "⎛  2               2           ⎞\n",
       "⎜ d               d            ⎟\n",
       "⎜───(X(x))       ───(T(t))     ⎟\n",
       "⎜  2               2           ⎟\n",
       "⎜dx              dt            ⎟\n",
       "⎜───────── = -E, ───────── = -E⎟\n",
       "⎝   X(x)            T(t)       ⎠"
      ]
     },
     "metadata": {},
     "output_type": "display_data"
    }
   ],
   "source": [
    "E = symbols('E', real=True)\n",
    "eqX = Eq(sep_X, -E)\n",
    "eqT = Eq(sep_T, -E)\n",
    "display((eqX, eqT))"
   ]
  },
  {
   "cell_type": "markdown",
   "metadata": {
    "ein.tags": "worksheet-0",
    "slideshow": {
     "slide_type": "-"
    }
   },
   "source": [
    "Let's start with solving for $X$. `sympy.solvers.ode.dsolve` does seem to support boundary conditions! Let's try that. First, let's check whether we can aid sympy at solving this:"
   ]
  },
  {
   "cell_type": "code",
   "execution_count": 7,
   "metadata": {
    "autoscroll": false,
    "ein.hycell": false,
    "ein.tags": "worksheet-0",
    "slideshow": {
     "slide_type": "-"
    }
   },
   "outputs": [
    {
     "data": {
      "text/plain": [
       "('nth_linear_constant_coeff_homogeneous', '2nd_power_series_ordinary')"
      ]
     },
     "execution_count": 7,
     "metadata": {},
     "output_type": "execute_result"
    }
   ],
   "source": [
    "classify_ode(eqX)"
   ]
  },
  {
   "cell_type": "markdown",
   "metadata": {
    "ein.tags": "worksheet-0",
    "slideshow": {
     "slide_type": "-"
    }
   },
   "source": [
    "Cool, so it should be capable of handling that!"
   ]
  },
  {
   "cell_type": "code",
   "execution_count": 8,
   "metadata": {
    "autoscroll": false,
    "ein.hycell": false,
    "ein.tags": "worksheet-0",
    "slideshow": {
     "slide_type": "-"
    }
   },
   "outputs": [
    {
     "data": {
      "text/latex": [
       "$$BCS: X{\\left (0 \\right )} = 0, X{\\left (L \\right )} = 0$$"
      ],
      "text/plain": [
       "<IPython.core.display.Math object>"
      ]
     },
     "metadata": {},
     "output_type": "display_data"
    },
    {
     "data": {
      "text/latex": [
       "$$X{\\left (x \\right )} = 0$$"
      ],
      "text/plain": [
       "X(x) = 0"
      ]
     },
     "metadata": {},
     "output_type": "display_data"
    }
   ],
   "source": [
    "bc_l = Eq(X.subs(x, x_l), 0)\n",
    "bc_r = Eq(X.subs(x, x_r), 0)\n",
    "ldisplay(\"BCS: {}, {}\", bc_l, bc_r)\n",
    "Xsol = dsolve(\n",
    "    eqX,\n",
    "    X,\n",
    "    ics={\n",
    "        bc_l.lhs: bc_l.rhs,\n",
    "        bc_r.lhs: bc_l.rhs,\n",
    "    },\n",
    "    hint='nth_linear_constant_coeff_homogeneous',\n",
    ")\n",
    "display(Xsol)"
   ]
  },
  {
   "cell_type": "markdown",
   "metadata": {
    "ein.tags": "worksheet-0",
    "slideshow": {
     "slide_type": "-"
    }
   },
   "source": [
    "Huh? It certainly is a solution, but we all know there's gotta be more. Let's take a look at the general solution then..."
   ]
  },
  {
   "cell_type": "code",
   "execution_count": 194,
   "metadata": {
    "autoscroll": false,
    "ein.hycell": false,
    "ein.tags": "worksheet-0",
    "slideshow": {
     "slide_type": "-"
    }
   },
   "outputs": [
    {
     "data": {
      "text/latex": [
       "$$X{\\left (x \\right )} = C_{1} e^{- x \\sqrt{- E}} + C_{2} e^{x \\sqrt{- E}}$$"
      ],
      "text/plain": [
       "                ____           ____\n",
       "           -x⋅╲╱ -E        x⋅╲╱ -E \n",
       "X(x) = C₁⋅ℯ          + C₂⋅ℯ        "
      ]
     },
     "metadata": {},
     "output_type": "display_data"
    }
   ],
   "source": [
    "Xsol = dsolve(\n",
    "    eqX,\n",
    "    X,\n",
    "    hint='nth_linear_constant_coeff_homogeneous',\n",
    ")\n",
    "display(Xsol)"
   ]
  },
  {
   "cell_type": "markdown",
   "metadata": {
    "ein.tags": "worksheet-0",
    "slideshow": {
     "slide_type": "-"
    }
   },
   "source": [
    "And now, solve the system of the initital conditions manually. One problem with that is -- how do you know what are the integration variables. I mean, we can see it's $C_1$ and $C_2$, but how to we get them in python? Surely we can't rely on `symbols('C_1 C_2')` since no one guarantees they would be named same in the next version of sympy. First thing I did was to declare `consts = Xsol.free_symbols.difference({E, x}))`. After looking at ode module source code, turned out once could make it [even more elegant](https://github.com/sympy/sympy/blob/a627ef1d3b8d89be3349d6d59d8642d64afb02e5/sympy/solvers/ode.py#L636)."
   ]
  },
  {
   "cell_type": "code",
   "execution_count": 195,
   "metadata": {
    "autoscroll": false,
    "ein.hycell": false,
    "ein.tags": "worksheet-0",
    "slideshow": {
     "slide_type": "-"
    }
   },
   "outputs": [
    {
     "data": {
      "text/latex": [
       "$$\\left [ C_{1} + C_{2} = 0, \\quad C_{1} e^{- L \\sqrt{- E}} + C_{2} e^{L \\sqrt{- E}} = 0\\right ]$$"
      ],
      "text/plain": [
       "⎡                      ____           ____    ⎤\n",
       "⎢                 -L⋅╲╱ -E        L⋅╲╱ -E     ⎥\n",
       "⎣C₁ + C₂ = 0, C₁⋅ℯ          + C₂⋅ℯ         = 0⎦"
      ]
     },
     "metadata": {},
     "output_type": "display_data"
    },
    {
     "data": {
      "text/latex": [
       "$$\\left\\{\\left ( 0, \\quad 0\\right )\\right\\}$$"
      ],
      "text/plain": [
       "{(0, 0)}"
      ]
     },
     "execution_count": 195,
     "metadata": {},
     "output_type": "execute_result"
    }
   ],
   "source": [
    "constants = list(Xsol.free_symbols - eqX.free_symbols)\n",
    "system = [\n",
    "    Eq(Xsol.subs(x, x_l).rhs, 0),\n",
    "    Eq(Xsol.subs(x, x_r).rhs, 0),\n",
    "]\n",
    "display(system)\n",
    "\n",
    "linsolve(system, constants)"
   ]
  },
  {
   "cell_type": "markdown",
   "metadata": {
    "ein.tags": "worksheet-0",
    "slideshow": {
     "slide_type": "-"
    }
   },
   "source": [
    "Trivial solution only? We know there are more, depending on $E$! After a bit of research turned out there is `solveset` module (TODO link), which is capable of properly solving algebraic equations like $e^{q} = 1$ and actually getting inifinite solution sets. Let's try that:"
   ]
  },
  {
   "cell_type": "code",
   "execution_count": 196,
   "metadata": {
    "autoscroll": false,
    "ein.hycell": false,
    "ein.tags": "worksheet-0",
    "slideshow": {
     "slide_type": "-"
    }
   },
   "outputs": [
    {
     "data": {
      "text/latex": [
       "$$\\left\\{\\left ( 0, \\quad 0\\right )\\right\\}$$"
      ],
      "text/plain": [
       "{(0, 0)}"
      ]
     },
     "execution_count": 196,
     "metadata": {},
     "output_type": "execute_result"
    }
   ],
   "source": [
    "from sympy.solvers.solveset import linsolve as slinsolve\n",
    "slinsolve(system, constants)"
   ]
  },
  {
   "cell_type": "markdown",
   "metadata": {},
   "source": [
    "Nope.. Perhaps it needs us to specify the parameter we solve against explicitly? We can't use linsolve anymore then since the equation is not linear in $E$, but luckily we've got TODO quote nonlinsolve"
   ]
  },
  {
   "cell_type": "code",
   "execution_count": 76,
   "metadata": {},
   "outputs": [
    {
     "data": {
      "text/latex": [
       "$$\\left\\{\\left ( 0, \\quad 0, \\quad E\\right )\\right\\}$$"
      ],
      "text/plain": [
       "{(0, 0, E)}"
      ]
     },
     "execution_count": 76,
     "metadata": {},
     "output_type": "execute_result"
    }
   ],
   "source": [
    "from sympy.solvers.solveset import nonlinsolve as snonlinsolve\n",
    "nonlinsolve(system, constants + [E])"
   ]
  },
  {
   "cell_type": "markdown",
   "metadata": {
    "autoscroll": false,
    "ein.hycell": false,
    "ein.tags": "worksheet-0",
    "slideshow": {
     "slide_type": "-"
    }
   },
   "source": [
    "No luck. Let's try and debug it. A simpler version of that system would be, of course, a system of 1 equation with a parameter, such that discrete values of parameter determine the solutions space."
   ]
  },
  {
   "cell_type": "code",
   "execution_count": 77,
   "metadata": {},
   "outputs": [
    {
     "data": {
      "text/latex": [
       "$$\\left\\{\\left ( 0, \\quad E\\right ), \\left ( Y, \\quad 0\\right )\\right\\}$$"
      ],
      "text/plain": [
       "{(0, E), (Y, 0)}"
      ]
     },
     "execution_count": 77,
     "metadata": {},
     "output_type": "execute_result"
    }
   ],
   "source": [
    "Y = symbols('Y')\n",
    "snonlinsolve([Y * (exp(sqrt(-E)) - 1)],[Y, E])"
   ]
  },
  {
   "cell_type": "markdown",
   "metadata": {},
   "source": [
    "Ok, looks like we're on the right track. It's clearly missing the exponential bit, let's try it in separation."
   ]
  },
  {
   "cell_type": "code",
   "execution_count": 64,
   "metadata": {},
   "outputs": [
    {
     "data": {
      "text/latex": [
       "$$\\left\\{E \\mid E \\in \\mathbb{C} \\wedge e^{\\sqrt{- E}} - 1 = 0 \\right\\}$$"
      ],
      "text/plain": [
       "⎧               ____        ⎫\n",
       "⎨             ╲╱ -E         ⎬\n",
       "⎩E | E ∊ ℂ ∧ ℯ       - 1 = 0⎭"
      ]
     },
     "execution_count": 64,
     "metadata": {},
     "output_type": "execute_result"
    }
   ],
   "source": [
    "solveset(exp(sqrt(-E)) - 1)\n",
    "# TODO need to store captured outputs for persistence"
   ]
  },
  {
   "cell_type": "markdown",
   "metadata": {},
   "source": [
    "Right. It's definitely confused, since we've defined $E$ to be real! And googling immediately yields that\n",
    "\n",
    "    Solveset is designed to be independent of the assumptions on the variable being solved for and instead, uses the domain argument to decide the solver to dispatch the equation to\n",
    "    \n",
    "My gut feeling was that it had something to do with the (multivalued) complex square root. And indeed:"
   ]
  },
  {
   "cell_type": "code",
   "execution_count": 23,
   "metadata": {},
   "outputs": [
    {
     "data": {
      "text/latex": [
       "$$\\left\\{2 n i \\pi\\; |\\; n \\in \\mathbb{Z}\\right\\}$$"
      ],
      "text/plain": [
       "{2⋅n⋅ⅈ⋅π | n ∊ ℤ}"
      ]
     },
     "execution_count": 23,
     "metadata": {},
     "output_type": "execute_result"
    }
   ],
   "source": [
    "Y = symbols('Y')\n",
    "solveset(exp(Y) - 1)"
   ]
  },
  {
   "cell_type": "markdown",
   "metadata": {},
   "source": [
    "Let's experiment for a bit how solveset works."
   ]
  },
  {
   "cell_type": "code",
   "execution_count": 66,
   "metadata": {},
   "outputs": [
    {
     "data": {
      "text/latex": [
       "$$\\left\\{\\sqrt[4]{-1}\\right\\}$$"
      ],
      "text/plain": [
       "⎧4 ____⎫\n",
       "⎨╲╱ -1 ⎬\n",
       "⎩      ⎭"
      ]
     },
     "execution_count": 66,
     "metadata": {},
     "output_type": "execute_result"
    }
   ],
   "source": [
    "solveset(sqrt(I) - Y)"
   ]
  },
  {
   "cell_type": "markdown",
   "metadata": {},
   "source": [
    "Huh. Surely there should be two solutions? I suppose it's time to read some docs. [This](https://docs.sympy.org/latest/modules/solvers/solveset.html#what-are-the-general-methods-employed-by-solveset-to-solve-an-equation) gives us a bit of a hint.\n",
    "\n",
    "    The respective solver now tries to invert the equation using the routines invert_real and invert_complex. These routines are based on the concept of mathematical inverse (though not exactly). It reduces the real/complex valued equation f(x)=y to a set of equations: {g(x)=h1(y),g(x)=h2(y),...,g(x)=hn(y)} where g(x) is a simpler function than f(x). \n",
    "\n",
    "Looking at TODO quote inver_complex source code.. It's a bit mad, e.g. [here](https://github.com/sympy/sympy/blob/fd0e200ab363ecb53d95e91260b5aea284c092cc/sympy/solvers/solveset.py#L308-L311) it explicitly excludes trigonometric functions. I wonder why?? (TODO raise an issue or something?)\n",
    "\n",
    "TODO sqrt docs?\n",
    "TODO\n",
    "\n",
    "After cloning QUOTE sympy repository and a bit of investigation, I've [tracked down](https://github.com/sympy/sympy/blob/a627ef1d3b8d89be3349d6d59d8642d64afb02e5/sympy/solvers/tests/test_solveset.py#L365) the problem.\n",
    "\n",
    "TODO shit. so messy\n",
    "https://github.com/sympy/sympy/blob/master/sympy/solvers/tests/test_solveset.py#L505\n",
    "\n",
    "    def test_solveset_real_gen_is_pow():\n",
    "        assert solveset_real(sqrt(1) + 1, x) == EmptySet()\n",
    "\n",
    "That doesn't look good for us.. there should be a solution $x=0$ corresponding to $\\sqrt 1 = -1$! Git blaming gives us [this](https://github.com/sympy/sympy/commit/6727f89a9be376bacd88d5392551807fd4d7f8dc) which tells us the test was commited five years ago! \n",
    "\n",
    "I suppose the explanation is that TODO multivalued functions like  sqrt, asin etc are dumbed down and treated as their principal branches. \n",
    "\n",
    "So in a sense, it's good that we this weird thing $\\left\\{E \\mid E \\in \\mathbb{C} \\wedge e^{\\sqrt{E}} - 1 = 0 \\right\\}$ as a result before, since that at least doesn't assume the branch where $E>0$. I hope I'll get to fix that in sympy one day, but for now let's try and at least aid sympy at converting this thing into the desired solutions set.\n",
    "\n",
    "The right thing to do seems to be analysing the subexpressions where $E$ appears under the square root sign, and then do case analysis on its size, just as you would do when solving manually. The easy thing to do for the simple wave equation would be just replacing $k = \\sqrt{-E}$."
   ]
  },
  {
   "cell_type": "code",
   "execution_count": 197,
   "metadata": {},
   "outputs": [
    {
     "data": {
      "text/latex": [
       "$$\\left [ C_{1} + C_{2} = 0, \\quad C_{1} e^{- L k} + C_{2} e^{L k} = 0\\right ]$$"
      ],
      "text/plain": [
       "⎡                 -L⋅k       L⋅k    ⎤\n",
       "⎣C₁ + C₂ = 0, C₁⋅ℯ     + C₂⋅ℯ    = 0⎦"
      ]
     },
     "metadata": {},
     "output_type": "display_data"
    },
    {
     "data": {
      "text/latex": [
       "$$\\left\\{\\left ( 0, \\quad 0, \\quad k\\right ), \\left ( - C_{2}, \\quad C_{2}, \\quad \\left\\{\\frac{n i \\pi}{L}\\; |\\; n \\in \\mathbb{Z}\\right\\}\\right )\\right\\}$$"
      ],
      "text/plain": [
       "⎧           ⎛         ⎧n⋅ⅈ⋅π        ⎫⎞⎫\n",
       "⎨(0, 0, k), ⎜-C₂, C₂, ⎨───── | n ∊ ℤ⎬⎟⎬\n",
       "⎩           ⎝         ⎩  L          ⎭⎠⎭"
      ]
     },
     "metadata": {},
     "output_type": "display_data"
    }
   ],
   "source": [
    "k = symbols('k')\n",
    "system = [\n",
    "    eq.subs(sqrt(-E), k) for eq in system\n",
    "]\n",
    "Xsol = Xsol.subs(sqrt(-E), k)\n",
    "\n",
    "display(system)\n",
    "res = snonlinsolve(system, constants + [k]) # TODO is res reused??\n",
    "display(res)"
   ]
  },
  {
   "cell_type": "markdown",
   "metadata": {},
   "source": [
    "Nice! That looks way better! Now, we want to discard the trivial $(0, 0, k)$ bit and take the other family of solution for analysis. How do we do that?"
   ]
  },
  {
   "cell_type": "code",
   "execution_count": 198,
   "metadata": {},
   "outputs": [
    {
     "data": {
      "text/latex": [
       "$$C1 = - C_{2}; C2 = C_{2}; k = \\left\\{\\frac{n i \\pi}{L}\\; |\\; n \\in \\mathbb{Z}\\right\\}$$"
      ],
      "text/plain": [
       "<IPython.core.display.Math object>"
      ]
     },
     "metadata": {},
     "output_type": "display_data"
    }
   ],
   "source": [
    "def bindFiniteSet(x):\n",
    "    assert isinstance(x, FiniteSet)\n",
    "    return x.args\n",
    "def bindImageSet(x):\n",
    "    assert isinstance(x, ImageSet)\n",
    "    return x.lamda, x.base_set\n",
    "(first, second) = bindFiniteSet(res)\n",
    "(C1sol, C2sol, kSol) = second\n",
    "lamda, base = bindImageSet(kSol)\n",
    "ldisplay(\"C1 = {}; C2 = {}; k = {}\", C1sol, C2sol, kSol)"
   ]
  },
  {
   "cell_type": "markdown",
   "metadata": {},
   "source": [
    "Now, at the very least it would assert if something goes wrong. Let's actually substitute everything now."
   ]
  },
  {
   "cell_type": "code",
   "execution_count": 208,
   "metadata": {},
   "outputs": [
    {
     "data": {
      "text/latex": [
       "$$Solutions basis: \\left\\{\\left(e^{\\frac{i \\pi n x}{L}} - e^{- \\frac{i \\pi n x}{L}}\\right) {B}_{n}\\; |\\; n \\in \\mathbb{Z}\\right\\}$$"
      ],
      "text/plain": [
       "<IPython.core.display.Math object>"
      ]
     },
     "metadata": {},
     "output_type": "display_data"
    }
   ],
   "source": [
    "Xsol = Xsol.subs({\n",
    "    constants[0]: C1sol,\n",
    "    constants[1]: C2sol,\n",
    "})\n",
    "# only one constant \n",
    "# [const] = set(constants) - Xsol.free_symbols\n",
    "# display(const)\n",
    "A = IndexedBase('A')\n",
    "B = IndexedBase('B')\n",
    "n = symbols('n', integer=True)\n",
    "term = Xsol.rhs.subs({\n",
    "    constants[0]: A[n],\n",
    "    constants[1]: B[n],\n",
    "    k: lamda(n),\n",
    "})\n",
    "term = collect(term, [A[n], B[n]]) # for nicer grouping\n",
    "basis = ImageSet(\n",
    "    Lambda(n, term),    \n",
    "    base,\n",
    ")\n",
    "ldisplay(\"Solutions basis: {}\", basis) # TODO shit, that doesn't need to be formatted like latex"
   ]
  },
  {
   "cell_type": "markdown",
   "metadata": {},
   "source": [
    "Ok, we're getting closer now. One concern is that we've got linearly dependent functions in our basis, the ones corresponding to $n$ and $-n$. I guess it's the nonlinsolve to blame. Can we do anything to eliminate extra solutions in the meantime?"
   ]
  },
  {
   "cell_type": "code",
   "execution_count": 209,
   "metadata": {},
   "outputs": [
    {
     "data": {
      "text/latex": [
       "$$\\left\\{\\left(e^{\\frac{i \\pi n x}{L}} - e^{- \\frac{i \\pi n x}{L}}\\right) {B}_{n}\\; |\\; n \\in \\mathbb{N}_0\\right\\}$$"
      ],
      "text/plain": [
       "⎧⎛ ⅈ⋅π⋅n⋅x    -ⅈ⋅π⋅n⋅x ⎞              ⎫\n",
       "⎪⎜ ───────    ─────────⎟              ⎪\n",
       "⎨⎜    L           L    ⎟              ⎬\n",
       "⎪⎝ℯ        - ℯ         ⎠⋅B[n] | n ∊ ℕ₀⎪\n",
       "⎩                                     ⎭"
      ]
     },
     "metadata": {},
     "output_type": "display_data"
    }
   ],
   "source": [
    "def eliminate_dependency(iset, idx, var):\n",
    "    assert iset.base_set == Integers\n",
    "    prop = simplify(basis.lamda(idx) / basis.lamda(-idx))\n",
    "    assert var not in prop.free_symbols\n",
    "    # now that we verified linear dependency, we can shrink the index space\n",
    "    return ImageSet(iset.lamda, Naturals0)\n",
    "    \n",
    "basis = eliminate_dependency(basis, n, x)\n",
    "display(basis)"
   ]
  },
  {
   "cell_type": "markdown",
   "metadata": {},
   "source": [
    "Ok, now to find out $B_n$, we're gonna need the general solution. TODO continuus bit -- I suppose another time.\n",
    "TODO actually, integrate over other values of k too! They all result in 0, but still!\n",
    "TODO this might be important when we solve something like schrodinger equation, where the spectrum might have continuous part!\n"
   ]
  },
  {
   "cell_type": "code",
   "execution_count": 210,
   "metadata": {},
   "outputs": [
    {
     "data": {
      "text/latex": [
       "$$\\sum_{n=0}^{\\infty} \\left(e^{\\frac{i \\pi n x}{L}} - e^{- \\frac{i \\pi n x}{L}}\\right) {B}_{n}$$"
      ],
      "text/plain": [
       "  ∞                               \n",
       " ____                             \n",
       " ╲                                \n",
       "  ╲   ⎛ ⅈ⋅π⋅n⋅x    -ⅈ⋅π⋅n⋅x ⎞     \n",
       "   ╲  ⎜ ───────    ─────────⎟     \n",
       "   ╱  ⎜    L           L    ⎟     \n",
       "  ╱   ⎝ℯ        - ℯ         ⎠⋅B[n]\n",
       " ╱                                \n",
       " ‾‾‾‾                             \n",
       "n = 0                             "
      ]
     },
     "metadata": {},
     "output_type": "display_data"
    }
   ],
   "source": [
    "# shit, that didn't work. requires lower and upper bounds\n",
    "# kinda makes sense, we can't just sum over arbitrary sets...\n",
    "# but we do want to sum over countable sets!\n",
    "def sum_iset(iset):\n",
    "    bs = iset.base_set\n",
    "    lamda = iset.lamda\n",
    "    [var] = lamda.variables\n",
    "    return Sum(\n",
    "        lamda(var),\n",
    "        (var, bs._inf, bs._sup),\n",
    "    )\n",
    "Xsol2 = sum_iset(basis)\n",
    "display(Xsol2)"
   ]
  },
  {
   "cell_type": "code",
   "execution_count": 214,
   "metadata": {},
   "outputs": [
    {
     "data": {
      "text/latex": [
       "$$\\begin{cases} 0 & \\text{for}\\: \\left(m = 0 \\wedge n = 0\\right) \\vee \\left(m = 0 \\wedge m = n \\wedge n = 0\\right) \\vee \\left(m = 0 \\wedge m = - n \\wedge n = 0\\right) \\vee \\left(m = 0 \\wedge m = - n \\wedge m = n \\wedge n = 0\\right) \\vee m = 0 \\vee n = 0 \\\\2 L & \\text{for}\\: \\left(m = 0 \\wedge m = - n\\right) \\vee \\left(m = - n \\wedge m = n\\right) \\vee \\left(m = - n \\wedge n = 0\\right) \\vee \\left(m = 0 \\wedge m = - n \\wedge m = n\\right) \\vee \\left(m = - n \\wedge m = n \\wedge n = 0\\right) \\vee m = - n \\\\- 2 L & \\text{for}\\: \\left(m = 0 \\wedge m = n\\right) \\vee \\left(m = n \\wedge n = 0\\right) \\vee m = n \\\\0 & \\text{otherwise} \\end{cases}$$"
      ],
      "text/plain": [
       "⎧ 0    for (m = 0 ∧ n = 0) ∨ (m = 0 ∧ m = n ∧ n = 0) ∨ (m = 0 ∧ m = -n ∧ n = 0\n",
       "⎪                                                                             \n",
       "⎪2⋅L    for (m = 0 ∧ m = -n) ∨ (m = -n ∧ m = n) ∨ (m = -n ∧ n = 0) ∨ (m = 0 ∧ \n",
       "⎨                                                                             \n",
       "⎪-2⋅L                                         for (m = 0 ∧ m = n) ∨ (m = n ∧ n\n",
       "⎪                                                                             \n",
       "⎩ 0                                                             otherwise     \n",
       "\n",
       ") ∨ (m = 0 ∧ m = -n ∧ m = n ∧ n = 0) ∨ m = 0 ∨ n = 0\n",
       "                                                    \n",
       "m = -n ∧ m = n) ∨ (m = -n ∧ m = n ∧ n = 0) ∨ m = -n \n",
       "                                                    \n",
       " = 0) ∨ m = n                                       \n",
       "                                                    \n",
       "                                                    "
      ]
     },
     "execution_count": 214,
     "metadata": {},
     "output_type": "execute_result"
    }
   ],
   "source": [
    "# TODO FIXME exploiting that A = 0..\n",
    "def get_func(idx):\n",
    "    return simplify(Xsol2.function.subs(n,idx) / B[idx])\n",
    "\n",
    "# if we not assume n to be nonnegative it will make integration a bit easier for sympy\n",
    "# from sympy.assumptions.assume import global_assumptions\n",
    "# from sympy import Q\n",
    "# global_assumptions.add(Q.nonnegative(n))\n",
    "m = symbols('m', integer=True)# , nonnegative=True)\n",
    "integrate(get_func(n) * get_func(m), (x, 0, L))\n",
    "# TODO wtf??? that's messy\n",
    "\n",
    "#def sum_map(f, iset, idx):\n",
    "#    return Sum(\n",
    "#        f(idx, iset.lamda(idx)),\n",
    "#        (idx, iset.base_set._inf, iset.base_set._sup),\n",
    "#    )\n",
    "\n",
    "\n",
    "# B = IndexedBase('B')\n",
    "\n",
    "# sol = sum_map(lambda idx, term: Xsol.subs({\n",
    "#    C1: A[idx],\n",
    "#    C2: B[idx],\n",
    "#    k : term,\n",
    "#}), K, idx=n)\n",
    "\n",
    "\n",
    "# print('General solution:')\n",
    "# display(sol)"
   ]
  },
  {
   "cell_type": "code",
   "execution_count": 51,
   "metadata": {},
   "outputs": [
    {
     "name": "stdout",
     "output_type": "stream",
     "text": [
      "<class 'sympy.core.power.Pow'>\n"
     ]
    },
    {
     "data": {
      "text/latex": [
       "$$\\emptyset$$"
      ],
      "text/plain": [
       "∅"
      ]
     },
     "metadata": {},
     "output_type": "display_data"
    },
    {
     "data": {
      "text/latex": [
       "$$\\frac{i \\pi}{2}$$"
      ],
      "text/plain": [
       "ⅈ⋅π\n",
       "───\n",
       " 2 "
      ]
     },
     "metadata": {},
     "output_type": "display_data"
    }
   ],
   "source": [
    "from sympy.solvers.solveset import invert_complex, invert_real, _solve_radical, _solveset, solveset_complex\n",
    "QQ = symbols('QQ', real=True)\n",
    "# snonlinsolve([(Y - 1) * (exp(I * sqrt(YY)) - 1)],[Y, YY])\n",
    "# TODO FIX -- simplify its output??\n",
    "from sympy.solvers.solveset import linsolve as slinsolve\n",
    "display(linsolve(system, constants))\n",
    "# TODO shit is E even the right name for the constant???"
   ]
  },
  {
   "cell_type": "code",
   "execution_count": null,
   "metadata": {
    "autoscroll": false,
    "ein.hycell": false,
    "ein.tags": "worksheet-0",
    "slideshow": {
     "slide_type": "-"
    }
   },
   "outputs": [],
   "source": [
    "from sympy.solvers.solveset import linsolve\n",
    "from sympy.solvers.ode import ode_nth_linear_constant_coeff_homogeneous as ode_solve\n",
    "from sympy.core.numbers import IntegerConstant\n",
    "# `\n",
    "k = symbols('k')\n",
    "E = k ** 2\n",
    "# E = symbols('E', real=True)\n",
    "# eqT = Eq(_eqT + E) # ).canonical\n",
    "# canonical moves all variables to the left and numbers to the right\n",
    "Tsol = dsolve(eqT).rhs\n",
    "# shit, it won't eliminate solutions based on k :(\n",
    "Xsol = dsolve(\n",
    "    eqX,\n",
    "    X,\n",
    "    #ics={\n",
    "    #    X.subs(x, x_l): 0,\n",
    "    #    X.subs(x, x_r): 0,            \n",
    "    #},\n",
    "    hint='nth_linear_constant_coeff_homogeneous',\n",
    "    # returns = 'both',\n",
    "    \n",
    ").rhs\n",
    "\n",
    "print(\"General solutions for X and T:\")\n",
    "display((Xsol, Tsol))\n",
    "\n",
    "# how to specify constants for DE solver??\n",
    "[C1, C2] = list(Xsol.free_symbols.difference({k, x}))\n",
    "\n",
    "bcs_l = Eq(Xsol.subs(x, x_l))\n",
    "bcs_r = Eq(Xsol.subs(x, x_r))\n",
    "\n",
    "print(\"BC enforces:\")\n",
    "display((bcs_l, bcs_r))\n",
    "\n",
    "\n",
    "# TODO blog about that, give examples?\n",
    "# so, solveset stuff can't handle \n",
    "[c1_c2] = solve(bcs_l, C1)\n",
    "# solve(bcs_r.subs(C1, c1_c2))\n",
    "# [{C2:0},{k:0},{k:iπ}]\n",
    "# TODO what do we do with C2 = 0 solution???\n",
    "K = solveset(bcs_r.subs(C1, c1_c2), k)\n",
    "\n",
    "print(\"Allowed values of k:\")\n",
    "display(K)\n",
    "\n",
    "# TODO how to eliminate negative k solutions?\n",
    "# there must be something wrong with our approach if we have to do that manually. right?\n",
    "# something unnatural. maybe we want to impose some sort of symmetry first??\n",
    "# ah, basically separate equation in left and right waves first?\n",
    "\n",
    "# so, can we eliminate extra constants and instead use the whole range of ks ????\n",
    "\n",
    "# hmm. maybe the redundancy is coming from separation of variables? e.g. negative and positive energies?\n",
    "\n",
    "\n",
    "# TODO generate sequence of edits from git commits?...\n",
    "\n",
    "# basis = imageset(lambda kk: Xsol.subs(k, kk), K)\n",
    "# print(\"Solutions basis:\")\n",
    "# display(basis)\n",
    "\n",
    "# here, sympy retuns something called ImageSet. it basically means that the solutions image of Z under x -> x i pi\n",
    "\n",
    "\n",
    "# right, how to define infinite coefficients? can it just be a function?\n",
    "# TODO how to sum something over imageset????\n",
    "\n",
    "# TODO base_set??\n",
    "\n",
    "\n",
    "# shit, that didn't work. requires lower and upper bounds\n",
    "# kinda makes sense, we can't just sum over arbitrary sets...\n",
    "# but we do want to sum over countable sets!\n",
    "\n",
    "def sum_map(f, iset, idx):\n",
    "    return Sum(\n",
    "        f(idx, iset.lamda(idx)),\n",
    "        (idx, iset.base_set._inf, iset.base_set._sup),\n",
    "    )\n",
    "\n",
    "A = IndexedBase('A')\n",
    "B = IndexedBase('B')\n",
    "n = symbols('n')\n",
    "\n",
    "sol = sum_map(lambda idx, term: Xsol.subs({\n",
    "    C1: A[idx],\n",
    "    C2: B[idx],\n",
    "    k : term,\n",
    "}), K, idx=n)\n",
    "\n",
    "\n",
    "print('General solution:')\n",
    "display(sol)\n",
    "\n",
    "# hmm, it's a bit awkward, we've got quite a bit of redundancy in \n",
    "# in textbooks, that's violated in an ad-hoc manner at the step (TODO refer to line, with a marker?)\n",
    "# the proper way to deal with this would be rewriting the solution\n",
    "# and only then enforce a bc!\n",
    "\n",
    "# TODO do we need to eliminate negative coefficients??\n",
    "\n",
    "# imageset(lambda u: u**2, allowed_ks)\n",
    "#Xsol\n",
    "# print(allowed_ks.domain)\n",
    "# ok, now we basically restrict ourselves to considering only specific waves\n",
    "\n",
    "# TODO pick first N coeffs and do initial transform?\n",
    "# usol = Xsol.rhs * Tsol.rhs\n",
    "# linsolve(, [C1, C2])\n",
    "print(\"rewrite: C[0] = (A_0 + B_0) / 2; for n>0: C[n] = B_n + A_{-n}; C[-n] = B_{-n} + A_n\")\n",
    "# C = IndexedBase('C')\n",
    "C = Function('C')\n",
    "# sol = Sum(C[n] * exp(I * pi * n * x), (n, -oo, oo))\n",
    "\n",
    "# TODO here, extract the exponent from split solution..\n",
    "sol = Integral(C(k) * exp(I * k * x), (k, -oo, oo))\n",
    "print(\"General sol\")\n",
    "display(sol)\n",
    "# TODO how to check they are equivalent??\n",
    "bc_l = sol.subs(x, x_l)\n",
    "bc_r = sol.subs(x, x_r)\n",
    "print(\"BCS:\")\n",
    "display((Eq(bc_l), Eq(bc_r)))\n",
    "# TODO is there a way to solve that automatically???\n",
    "\n",
    "def mComm(expr, cls):\n",
    "    assert isinstance(expr, cls)\n",
    "    return expr.args\n",
    "\n",
    "def mAdd(expr):\n",
    "    # TODO is there anything standard in sympy?\n",
    "    return mComm(expr, Add)\n",
    "    \n",
    "def mMul(expr):\n",
    "    return mComm(expr, Mul)\n",
    "\n",
    "def mIntegral(expr):\n",
    "    assert isinstance(expr, Integral), type(i)\n",
    "    return expr.limits, expr.function\n",
    "\n",
    "def pullIntegral(expr):\n",
    "    if isinstance(expr, Integral):\n",
    "        return expr\n",
    "    if isinstance(expr, Mul):\n",
    "        # TODO might work for a constant...\n",
    "        parts = [pullIntegral(p) for p in mMul(expr)]\n",
    "        # TODO only one should be integral, rest constants?\n",
    "        consts = []\n",
    "        rest = []\n",
    "        for p in parts:\n",
    "            if isinstance(p, IntegerConstant):\n",
    "                consts.append(p)\n",
    "            else:\n",
    "                rest.append(p)\n",
    "        rest = [pullIntegral(r) for r in rest]\n",
    "        res = None\n",
    "        if len(rest) == 1:\n",
    "            lims, fun = mIntegral(rest[0])\n",
    "            res = Integral(Mul(*consts) * fun, lims)\n",
    "            return res\n",
    "        else:\n",
    "            res = Mul(*consts)\n",
    "            if len(rest) > 0:\n",
    "                res = res * Mul(*rest)\n",
    "            return res\n",
    "    return expr\n",
    "    \n",
    "\n",
    "def asIntegral(expr):\n",
    "    res = pullIntegral(expr)\n",
    "    assert isinstance(res, Integral), type(res)\n",
    "    return res\n",
    "    # if is\n",
    "\n",
    "def combine_isum(isum):\n",
    "    parts = mAdd(isum)\n",
    "    parts = [asIntegral(p) for p in parts]\n",
    "    # TODO shit, is there something for pulling stuff under integral?\n",
    "    # TODO expression with limits\n",
    "    lims = [i.limits for i in parts]\n",
    "    exprs = [i.function for i in parts]\n",
    "    [lim] = list(set(lims))\n",
    "    return Integral(Add(*exprs), lim)\n",
    "    \n",
    "    # TODO generify for expr with limits\n",
    "    \n",
    "def int2sum(thing):\n",
    "    lims, func = mIntegral(thing)\n",
    "    [q1, _] = mMul(func)\n",
    "    KK = solveset(q1, k)\n",
    "    return KK\n",
    "    \n",
    "    # TODO how to bind it to list of integrals? some sort of generic shape??\n",
    "# TODO right! so if we got independent things, we should test BOTH linear combinations\n",
    "bcs1 = rcollect(combine_isum(bc_l + bc_r), C(k))\n",
    "display(bcs1)\n",
    "\n",
    "bcs2 = rcollect(combine_isum(bc_l - bc_r), C(k))\n",
    "display(bcs2)\n",
    "\n",
    "#lims1, func1 = mIntegral(bcs1)\n",
    "#[qq1, _] = mMul(func1)\n",
    "#lims2, func2 = mIntegral(bcs2)\n",
    "#[qq2, _] = mMul(func2)\n",
    "\n",
    "#from sympy.solvers.solveset import linsolve as slinsolve, nonlinsolve as snonlinsolve\n",
    "# KK = solveset([qq1, qq2], k)\n",
    "\n",
    "# KK = slinsolve([qq1, qq2], k)\n",
    "# display(qq1)\n",
    "# display(qq2)\n",
    "# nope.. they were independent and should be solved independently!!\n",
    "\n",
    "def the(objs):\n",
    "    assert len(objs) > 0, \"expected non-empty list\"\n",
    "    assert all([o == objs[0] for o in objs]), \"not all objects are equal\"\n",
    "    return objs[0]\n",
    "\n",
    "def asLambda1(expr):\n",
    "    assert isinstance(expr, Lambda)\n",
    "    return expr.variables, expr.expr\n",
    "\n",
    "# TODO https://docs.sympy.org/latest/tutorial/manipulation.html is not too helpful though...\n",
    "def combine_imagesets(s1, s2):\n",
    "    display(s1)\n",
    "    display(s2)\n",
    "    sets = [s1, s2]\n",
    "    # TODO assert all are image sets? or pull them out\n",
    "    dom = the([s.base_set for s in sets])\n",
    "    # TODO ok, need to  analyse lamdas...\n",
    "    # TODO should be same variable???\n",
    "    v1, e1 = asLambda1(s1.lamda)\n",
    "    v2, e2 = asLambda1(s2.lamda)\n",
    "    # print(cse([e1, e2]))\n",
    "    # assert v1 == v2\n",
    "    # basically, we need to figure out if e1 == e2 for some n? then we can discard one of them!!\n",
    "    # and if only one elem left, we don't need the finiteset?\n",
    "    # ah shit, we need to replace the function!\n",
    "    # display(solve(e1 - e2))\n",
    "    print(\"GCD\")\n",
    "    display(factor_list(e1))\n",
    "    display(factor_list(e2))\n",
    "    display(gcd_terms([e1, e2]))\n",
    "    return imageset(lambda q: FiniteSet(*[s.lamda(q) for s in sets]), dom)\n",
    "    \n",
    "    \n",
    "# TODO shit, how to simplify them???\n",
    "# combine_imagesets()\n",
    "# fucking hell. why is that so tricky????\n",
    "# anyway:\n",
    "display(int2sum(bcs) + int2sum(bcs2))\n",
    "print(\"which is same as:\")\n",
    "# TODO again, need some sort of quickcheck for expressions, sets etc\n",
    "n = symbols('n')\n",
    "Ns = imageset(Lambda(n, pi * n), Integers)\n",
    "display(Ns)\n",
    "# TODO now we actually need int2sum\n",
    "# something that pick subintegral expression \n",
    "\n",
    "def change_limits(expr, ns):\n",
    "    # expr.limits\n",
    "    ef = expr.function\n",
    "    [ev] = expr.variables\n",
    "    lamda = ns.lamda\n",
    "    lf = lamda.expr\n",
    "    [lv] = lamda.variables\n",
    "    bs = ns.base_set   \n",
    "    return Sum(ef.subs(ev, lamda(lv)), (lv, bs._inf, bs._sup))\n",
    "# ugh. so dirty..\n",
    "res2 = change_limits(sol, Ns)\n",
    "print(\"After substituting restrictions on wavevectors\")\n",
    "display(res2)\n",
    "\n",
    "\n",
    "\n",
    "from sympy.integrals.transforms import _fourier_transform\n",
    "\n",
    "u = symbols('u')\n",
    "integrate(res2 * exp(-I * pi * u * x), (x, x_l, x_r))\n",
    "\n",
    "# shit. I guess we run at the fact that expr(-I pi u x) are not basis functions for the problem once again...\n",
    "# still, shouldn't prevent us from solving. right???\n",
    "\n",
    "\n",
    "# fucking hell.. why does that work???\n",
    "\n",
    "\n",
    "# TODO next: initial condition to find Cs?\n",
    "# basically, here we're going to restrict ourselves? or we can get away with fully symbolic for a while?...\n",
    "# TODO ok, just multiply all by exp(- i pi k x)\n",
    "# TODO how to eliminate C_{k+1} vs C_{k-1} ???\n",
    "# wonder if division by two in classic particle in a box coming from the fact that they have to normalise by 2\n",
    "# since they are using degenerate solution space\n",
    "\n",
    "\n",
    "# TODO do final chage of variables from C(pi * n) to some indexed function?..\n",
    "\n",
    "# TODO shit... but coeffs are not independent.. because originally we had two equations??\n",
    "# mm. ok, individual things don't have to satisfy bcs!\n",
    "\n",
    "\n",
    "    \n",
    "# when k = 2 pi n, it works for any C\n",
    "# when it's not, thet that can only work when all of C are 0, due to properties of L^2 space\n",
    "# TODO could implement solving integral equations in python?...\n",
    "# basically, C(k) is non-zero on k = 2 pi n and 0 otherwise\n",
    "\n",
    "# TODO hmm interesting, looks kinda like a discrepancy between pi *n and 2 n pi + pi\n",
    "# but, actually, I guess this is kinda disguised in the linear combination thing! this form explicitly forbids cosines!"
   ]
  },
  {
   "cell_type": "code",
   "execution_count": null,
   "metadata": {
    "autoscroll": false,
    "ein.hycell": false,
    "ein.tags": "worksheet-0",
    "slideshow": {
     "slide_type": "-"
    }
   },
   "outputs": [],
   "source": [
    "# shit. it can't handle restrictions on k :(\n",
    "from sympy.solvers.solveset import linsolve as slinsolve\n",
    "\n",
    "A, B, k = symbols('A B k')\n",
    "\n",
    "\n",
    "slinsolve([\n",
    "    A * exp(sqrt(-k)) + exp(sqrt(k)),\n",
    "], [A])\n",
    "\n",
    "# right, it just can't figure out multiple solutions??\n",
    "# solveset(exp(k) - 1)\n",
    "\n",
    "# shit, it can't handle eliminating certain k's :( \n",
    "slinsolve([\n",
    "    A,\n",
    "    0,\n",
    "    #exp(k) - 1,\n",
    "], [A, B])\n",
    "\n",
    "E = symbols('E', real=True)\n",
    "k = symbols('k')\n",
    "\n",
    "# TODO shit, it won't handle sqrt??\n",
    "solveset(exp(k) - exp(-k))\n",
    "\n",
    "\n",
    "# solveset(exp(k) - 1)\n",
    "solveset(exp(sqrt(k**2)) - 1)\n",
    "\n",
    "slinsolve([\n",
    "    A + B,\n",
    "    A * exp(- k) + B * exp(k),\n",
    "],\n",
    "    [A, B]\n",
    ")\n",
    "\n",
    "\n",
    "#solve([\n",
    "#    exp(k) + 1,\n",
    "#], returns='solveset')\n"
   ]
  },
  {
   "cell_type": "code",
   "execution_count": null,
   "metadata": {
    "autoscroll": false,
    "ein.hycell": false,
    "ein.tags": "worksheet-0",
    "slideshow": {
     "slide_type": "-"
    }
   },
   "outputs": [],
   "source": [
    "from sympy.core.rules import Transform\n",
    "def split(integ):\n",
    "    return Add(*[integ.func(term, *integ.args[1:]) for term in Add.make_args(integ.args[0])])\n",
    "F = Function('F')\n",
    "G = Function('G')\n",
    "H = Function('H')\n",
    "A, B = symbols('A B')\n",
    "z = symbols('z')\n",
    "v = symbols('v')\n",
    "it = Integral(F(z) * z + -G(z) * z, (z, 0, oo))\n",
    "display(it)\n",
    "thing = it.xreplace(Transform(split, lambda i: isinstance(i, Integral)))\n",
    "\n",
    "[left, right] = mAdd(thing)\n",
    "rrr = Add(\n",
    "    left,\n",
    "    right.transform(-z, z),\n",
    ")\n",
    "display(rrr)\n",
    "rrr.subs_expr({\n",
    "    F(z): H(z),\n",
    "    G(-z): H(z),\n",
    "})\n",
    "# TODO shit...\n",
    "# TODO replace function with a partial??\n",
    "\n",
    "\n",
    "\n",
    "# TODO how to assert that expressions are equivalent???"
   ]
  },
  {
   "cell_type": "code",
   "execution_count": null,
   "metadata": {
    "autoscroll": false,
    "ein.hycell": false,
    "ein.tags": "worksheet-0",
    "slideshow": {
     "slide_type": "-"
    }
   },
   "outputs": [],
   "source": [
    "q, w = symbols('q w')\n",
    "ee = Eq(q, w)\n",
    "ee.subs(q, 0)\n",
    "# display(ee)"
   ]
  },
  {
   "cell_type": "code",
   "execution_count": null,
   "metadata": {
    "autoscroll": false,
    "ein.hycell": false,
    "ein.tags": "worksheet-0",
    "slideshow": {
     "slide_type": "-"
    }
   },
   "outputs": [],
   "source": [
    "# TODO NOTE: the bc equations:\n",
    "# solve [C1 + C2 =0, C1 * exp(i * k) + C2 * exp(-i * k) =0]\n",
    "# sage couldn't hande it either\n",
    "# wolfram alpha did though!"
   ]
  }
 ],
 "metadata": {
  "kernelspec": {
   "display_name": "Python 3",
   "language": "python",
   "name": "python3"
  },
  "language_info": {
   "codemirror_mode": {
    "name": "ipython",
    "version": 3
   },
   "file_extension": ".py",
   "mimetype": "text/x-python",
   "name": "python",
   "nbconvert_exporter": "python",
   "pygments_lexer": "ipython3",
   "version": "3.6.7"
  },
  "name": "waveq.ipynb"
 },
 "nbformat": 4,
 "nbformat_minor": 2
}
